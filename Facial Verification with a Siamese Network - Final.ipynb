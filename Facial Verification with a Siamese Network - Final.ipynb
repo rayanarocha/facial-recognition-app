{
 "cells": [
  {
   "cell_type": "markdown",
   "metadata": {},
   "source": [
    "# 1. Setup"
   ]
  },
  {
   "cell_type": "markdown",
   "metadata": {},
   "source": [
    "#### Bibliotecas principais\n",
    "- A biblioteca `os` é um **sistema operacional** que vai ser utilizado na criação de estrutura de pastas\n",
    "- Numpy é utlizado para manipular **arrays**\n",
    "- Matplotlib para plotar os gráficos"
   ]
  },
  {
   "cell_type": "markdown",
   "metadata": {},
   "source": [
    "## 1.1 Install Dependencies"
   ]
  },
  {
   "cell_type": "code",
   "execution_count": 207,
   "metadata": {},
   "outputs": [],
   "source": [
    " # %pip install tensorflow==2.4.1 tensorflow-gpu==2.4.1 opencv-python matplotlib"
   ]
  },
  {
   "cell_type": "markdown",
   "metadata": {},
   "source": [
    "## 1.2 Import Dependencies"
   ]
  },
  {
   "cell_type": "code",
   "execution_count": 208,
   "metadata": {},
   "outputs": [],
   "source": [
    "# Import standard dependencies\n",
    "import cv2\n",
    "import os\n",
    "import random\n",
    "import numpy as np\n",
    "from matplotlib import pyplot as plt"
   ]
  },
  {
   "cell_type": "markdown",
   "metadata": {},
   "source": [
    "### O que são Redes Neurais Siamesas?\n",
    "\n",
    "Redes Neurais Siamesas (RNS) foram introduzidas por Bromley em colaboração, no ano de 1994, onde foram utilizadas para realizara veriﬁcação de assinaturas. A arquitetura de uma RNS, consiste em duas redes neurais que compartilham pesos idênticos e que são ligadas por uma ou mais camadas. Na maioria dos casos, uma RNS executa uma codiﬁcação não linear dos dados de entrada com o objetivo de atingir um espaço semanticamente signiﬁcativo onde padrões relacionados sejam próximos uns dos outros (tais como faces de pessoas, assinaturas,entre outros) e os não relacionados sejam distantes unsdos dos outros (Harandi et al., 2017)."
   ]
  },
  {
   "cell_type": "markdown",
   "metadata": {},
   "source": [
    "- `from tensorflow.keras.models import Model` importa Modelos e agrupa camadas em um objeto com recursos de treinamento e inferência. Ele recebe a imagem de `input` a retorna **0** se a imagem for diferente e **1** se for igual no `output`\n",
    "\n",
    "- `from tensorflow.keras.layers` importa as camadas possibilitando a criação de uma camada personalizada chamada `L1Dist`\n",
    "  - Conv2D: utilizada para criar uma rede neural convolucional;\n",
    "  - Dense: camada conectada;\n",
    "  - MaxPooling2D: permite juntar as camadas e escolhe as informações que realmente são necessárias. Semelhante a uma média;\n",
    "  - Input: a entrada do algoritmo;\n",
    "  - Flatten: leva as informações de uma camada anterior, \"achata\" em uma única dimensão, que permite enviar os dados de uma rede convolucionoal para uma camada densa."
   ]
  },
  {
   "cell_type": "code",
   "execution_count": 209,
   "metadata": {},
   "outputs": [],
   "source": [
    "# Import tensorflow dependencies - Functional API\n",
    "from tensorflow.keras.models import Model\n",
    "from tensorflow.keras.layers import Layer, Conv2D, Dense, MaxPooling2D, Input, Flatten\n",
    "import tensorflow as tf"
   ]
  },
  {
   "cell_type": "markdown",
   "metadata": {},
   "source": [
    "## 1.3 Set GPU Growth"
   ]
  },
  {
   "cell_type": "markdown",
   "metadata": {},
   "source": [
    "### Configuração da GPU"
   ]
  },
  {
   "cell_type": "code",
   "execution_count": 210,
   "metadata": {},
   "outputs": [],
   "source": [
    "gpus = tf.config.experimental.list_physical_devices('GPU')\n",
    "for gpu in gpus: \n",
    "    tf.config.experimental.set_memory_growth(gpu, True)"
   ]
  },
  {
   "cell_type": "markdown",
   "metadata": {},
   "source": [
    "## 1.4 Create Folder Structures"
   ]
  },
  {
   "cell_type": "markdown",
   "metadata": {},
   "source": [
    "O algoritmo utiliza 3 pastas.\n",
    "- Âncora\n",
    "- Positivo\n",
    "- Negativo\n",
    "\n",
    "Na pasta âncora está a imagem que define quem nós somos. Na pasta positivo, está a imagem que confirmará se a o arquivo da pasta âncora é correto. Negativo são os que não se assemelham com o arquivo da pasta âncora."
   ]
  },
  {
   "cell_type": "code",
   "execution_count": 211,
   "metadata": {},
   "outputs": [],
   "source": [
    "# Setup paths\n",
    "POS_PATH = os.path.join('data', 'positive')\n",
    "NEG_PATH = os.path.join('data', 'negative')\n",
    "ANC_PATH = os.path.join('data', 'anchor')"
   ]
  },
  {
   "cell_type": "code",
   "execution_count": 212,
   "metadata": {},
   "outputs": [],
   "source": [
    "# Make the directories\n",
    "#os.makedirs(POS_PATH)\n",
    "#os.makedirs(NEG_PATH)\n",
    "#os.makedirs(ANC_PATH)"
   ]
  },
  {
   "cell_type": "markdown",
   "metadata": {},
   "source": [
    "# 2. Collect Positives and Anchors"
   ]
  },
  {
   "cell_type": "markdown",
   "metadata": {},
   "source": [
    "## 2.1 Untar Labelled Faces in the Wild Dataset"
   ]
  },
  {
   "cell_type": "code",
   "execution_count": 213,
   "metadata": {},
   "outputs": [],
   "source": [
    "#http://vis-www.cs.umass.edu/lfw/"
   ]
  },
  {
   "cell_type": "code",
   "execution_count": 214,
   "metadata": {},
   "outputs": [],
   "source": [
    "# Uncompress Tar GZ Labelled Faces in the Wild Dataset\n",
    "!tar -xf lfw.tgz"
   ]
  },
  {
   "cell_type": "code",
   "execution_count": 215,
   "metadata": {},
   "outputs": [],
   "source": [
    "# Mova as imagens LFW para os seguintes dados/negativos do repositório\n",
    "for directory in os.listdir('lfw'):\n",
    "    for file in os.listdir(os.path.join('lfw', directory)):\n",
    "        EX_PATH = os.path.join('lfw', directory, file)\n",
    "        NEW_PATH = os.path.join(NEG_PATH, file)\n",
    "        os.replace(EX_PATH, NEW_PATH)"
   ]
  },
  {
   "cell_type": "markdown",
   "metadata": {},
   "source": [
    "## 2.2 Collect Positive and Anchor Classes"
   ]
  },
  {
   "cell_type": "code",
   "execution_count": 216,
   "metadata": {},
   "outputs": [],
   "source": [
    "# Importe a biblioteca uuid para gerar nomes de imagem exclusivos\n",
    "import uuid"
   ]
  },
  {
   "cell_type": "code",
   "execution_count": 217,
   "metadata": {},
   "outputs": [
    {
     "data": {
      "text/plain": [
       "'data\\\\anchor\\\\386df079-7188-11ed-bc4e-6432a87b22d4.jpg'"
      ]
     },
     "execution_count": 217,
     "metadata": {},
     "output_type": "execute_result"
    }
   ],
   "source": [
    "os.path.join(ANC_PATH, '{}.jpg'.format(uuid.uuid1()))"
   ]
  },
  {
   "cell_type": "code",
   "execution_count": 218,
   "metadata": {},
   "outputs": [],
   "source": [
    "# Conecta webcam\n",
    "cap = cv2.VideoCapture(0)\n",
    "while cap.isOpened(): \n",
    "    ret, frame = cap.read()\n",
    "   \n",
    "    frame = frame[120:120+250,200:200+250, :]\n",
    "    \n",
    "    # ancoras \n",
    "    if cv2.waitKey(1) & 0XFF == ord('a'):\n",
    "        # Crie o caminho de arquivo exclusivo\n",
    "        imgname = os.path.join(ANC_PATH, '{}.jpg'.format(uuid.uuid1()))\n",
    "        # Escreva a imagem da âncora\n",
    "        cv2.imwrite(imgname, frame)\n",
    "    \n",
    "    # positivos\n",
    "    if cv2.waitKey(1) & 0XFF == ord('p'):\n",
    "        # Crie o caminho de arquivo exclusivo\n",
    "        imgname = os.path.join(POS_PATH, '{}.jpg'.format(uuid.uuid1()))\n",
    "        # Escreva a imagem da positiva\n",
    "        cv2.imwrite(imgname, frame)\n",
    "    \n",
    "    # Mostrar imagem de volta à tela\n",
    "    cv2.imshow('Image Collection', frame)\n",
    "    \n",
    "    if cv2.waitKey(1) & 0XFF == ord('q'):\n",
    "        break\n",
    "        \n",
    "cap.release()\n",
    "cv2.destroyAllWindows()"
   ]
  },
  {
   "cell_type": "code",
   "execution_count": 219,
   "metadata": {},
   "outputs": [
    {
     "data": {
      "text/plain": [
       "<matplotlib.image.AxesImage at 0x297ce371b70>"
      ]
     },
     "execution_count": 219,
     "metadata": {},
     "output_type": "execute_result"
    },
    {
     "data": {
      "image/png": "[encoded data removed]",
      "text/plain": [
       "<Figure size 640x480 with 1 Axes>"
      ]
     },
     "metadata": {},
     "output_type": "display_data"
    }
   ],
   "source": [
    "plt.imshow(frame)"
   ]
  },
  {
   "cell_type": "markdown",
   "metadata": {},
   "source": [
    "# 2.x NEW - Data Augmentation"
   ]
  },
  {
   "cell_type": "code",
   "execution_count": 220,
   "metadata": {},
   "outputs": [],
   "source": [
    "def data_aug(img):\n",
    "    data = []\n",
    "    for i in range(9):\n",
    "        img = tf.image.stateless_random_brightness(img, max_delta=0.02, seed=(1,2))\n",
    "        img = tf.image.stateless_random_contrast(img, lower=0.6, upper=1, seed=(1,3))\n",
    "        # img = tf.image.stateless_random_crop(img, size=(20,20,3), seed=(1,2))\n",
    "        img = tf.image.stateless_random_flip_left_right(img, seed=(np.random.randint(100),np.random.randint(100)))\n",
    "        img = tf.image.stateless_random_jpeg_quality(img, min_jpeg_quality=90, max_jpeg_quality=100, seed=(np.random.randint(100),np.random.randint(100)))\n",
    "        img = tf.image.stateless_random_saturation(img, lower=0.9,upper=1, seed=(np.random.randint(100),np.random.randint(100)))\n",
    "            \n",
    "        data.append(img)\n",
    "    \n",
    "    return data"
   ]
  },
  {
   "cell_type": "code",
   "execution_count": 221,
   "metadata": {},
   "outputs": [],
   "source": [
    "import os\n",
    "import uuid"
   ]
  },
  {
   "cell_type": "code",
   "execution_count": 222,
   "metadata": {},
   "outputs": [],
   "source": [
    "img_path = os.path.join(ANC_PATH, 'f2bfd8c3-7184-11ed-8dc8-6432a87b22d4.jpg')\n",
    "img = cv2.imread(img_path)\n",
    "augmented_images = data_aug(img)\n",
    "\n",
    "for image in augmented_images:\n",
    "    cv2.imwrite(os.path.join(ANC_PATH, '{}.jpg'.format(uuid.uuid1())), image.numpy())"
   ]
  },
  {
   "cell_type": "markdown",
   "metadata": {
    "tags": []
   },
   "source": [
    "for file_name in os.listdir(os.path.join(POS_PATH)):\n",
    "    img_path = os.path.join(POS_PATH, file_name)\n",
    "    img = cv2.imread(img_path)\n",
    "    augmented_images = data_aug(img) \n",
    "    \n",
    "    for image in augmented_images:\n",
    "       cv2.imwrite(os.path.join(POS_PATH, '{}.jpg'.format(uuid.uuid1())), image.numpy())"
   ]
  },
  {
   "cell_type": "markdown",
   "metadata": {},
   "source": [
    "# 3. Load and Preprocess Images"
   ]
  },
  {
   "cell_type": "markdown",
   "metadata": {},
   "source": [
    "## 3.1 Get Image Directories"
   ]
  },
  {
   "cell_type": "code",
   "execution_count": 223,
   "metadata": {},
   "outputs": [],
   "source": [
    "anchor = tf.data.Dataset.list_files(ANC_PATH+'\\*.jpg').take(3000)\n",
    "positive = tf.data.Dataset.list_files(POS_PATH+'\\*.jpg').take(3000)\n",
    "negative = tf.data.Dataset.list_files(NEG_PATH+'\\*.jpg').take(3000)"
   ]
  },
  {
   "cell_type": "code",
   "execution_count": 224,
   "metadata": {},
   "outputs": [],
   "source": [
    "dir_test = anchor.as_numpy_iterator()"
   ]
  },
  {
   "cell_type": "code",
   "execution_count": 225,
   "metadata": {},
   "outputs": [
    {
     "name": "stdout",
     "output_type": "stream",
     "text": [
      "b'data\\\\anchor\\\\570f0444-7188-11ed-8385-6432a87b22d4.jpg'\n"
     ]
    }
   ],
   "source": [
    "print(dir_test.next())"
   ]
  },
  {
   "cell_type": "markdown",
   "metadata": {},
   "source": [
    "## 3.2 Preprocessing - Scale and Resize"
   ]
  },
  {
   "cell_type": "code",
   "execution_count": 226,
   "metadata": {},
   "outputs": [],
   "source": [
    "def preprocess(file_path):\n",
    "    \n",
    "    byte_img = tf.io.read_file(file_path)\n",
    "    img = tf.io.decode_jpeg(byte_img)\n",
    "    \n",
    "    img = tf.image.resize(img, (100,100))\n",
    "    img = img / 255.0\n",
    "\n",
    "    return img"
   ]
  },
  {
   "cell_type": "code",
   "execution_count": 227,
   "metadata": {
    "scrolled": true,
    "tags": []
   },
   "outputs": [],
   "source": [
    "img = preprocess('data\\\\anchor\\\\f2bfd8c3-7184-11ed-8dc8-6432a87b22d4.jpg')"
   ]
  },
  {
   "cell_type": "code",
   "execution_count": 228,
   "metadata": {},
   "outputs": [
    {
     "data": {
      "text/plain": [
       "0.95416665"
      ]
     },
     "execution_count": 228,
     "metadata": {},
     "output_type": "execute_result"
    }
   ],
   "source": [
    "img.numpy().max() "
   ]
  },
  {
   "cell_type": "markdown",
   "metadata": {},
   "source": [
    "## 3.3 Create Labelled Dataset"
   ]
  },
  {
   "cell_type": "code",
   "execution_count": 229,
   "metadata": {},
   "outputs": [],
   "source": [
    "positives = tf.data.Dataset.zip((anchor, positive, tf.data.Dataset.from_tensor_slices(tf.ones(len(anchor)))))\n",
    "negatives = tf.data.Dataset.zip((anchor, negative, tf.data.Dataset.from_tensor_slices(tf.zeros(len(anchor)))))\n",
    "data = positives.concatenate(negatives)"
   ]
  },
  {
   "cell_type": "code",
   "execution_count": 230,
   "metadata": {},
   "outputs": [],
   "source": [
    "samples = data.as_numpy_iterator()"
   ]
  },
  {
   "cell_type": "code",
   "execution_count": 231,
   "metadata": {},
   "outputs": [],
   "source": [
    "exampple = samples.next()"
   ]
  },
  {
   "cell_type": "code",
   "execution_count": 232,
   "metadata": {
    "tags": []
   },
   "outputs": [
    {
     "data": {
      "text/plain": [
       "(b'data\\\\anchor\\\\5668ae72-7188-11ed-b4ca-6432a87b22d4.jpg',\n",
       " b'data\\\\positive\\\\502e6bcb-7188-11ed-b691-6432a87b22d4.jpg',\n",
       " 1.0)"
      ]
     },
     "execution_count": 232,
     "metadata": {},
     "output_type": "execute_result"
    }
   ],
   "source": [
    "exampple"
   ]
  },
  {
   "cell_type": "markdown",
   "metadata": {},
   "source": [
    "## 3.4 Build Train and Test Partition"
   ]
  },
  {
   "cell_type": "code",
   "execution_count": 233,
   "metadata": {},
   "outputs": [],
   "source": [
    "def preprocess_twin(input_img, validation_img, label):\n",
    "    return(preprocess(input_img), preprocess(validation_img), label)"
   ]
  },
  {
   "cell_type": "code",
   "execution_count": 234,
   "metadata": {},
   "outputs": [],
   "source": [
    "res = preprocess_twin(*exampple)"
   ]
  },
  {
   "cell_type": "code",
   "execution_count": 235,
   "metadata": {},
   "outputs": [
    {
     "data": {
      "text/plain": [
       "<matplotlib.image.AxesImage at 0x297cc8902b0>"
      ]
     },
     "execution_count": 235,
     "metadata": {},
     "output_type": "execute_result"
    },
    {
     "data": {
      "image/png": "[encoded data removed]",
      "text/plain": [
       "<Figure size 640x480 with 1 Axes>"
      ]
     },
     "metadata": {},
     "output_type": "display_data"
    }
   ],
   "source": [
    "plt.imshow(res[1])"
   ]
  },
  {
   "cell_type": "code",
   "execution_count": 236,
   "metadata": {},
   "outputs": [
    {
     "data": {
      "text/plain": [
       "1.0"
      ]
     },
     "execution_count": 236,
     "metadata": {},
     "output_type": "execute_result"
    }
   ],
   "source": [
    "res[2]"
   ]
  },
  {
   "cell_type": "code",
   "execution_count": 237,
   "metadata": {},
   "outputs": [],
   "source": [
    "# Carregando pipeline\n",
    "data = data.map(preprocess_twin)\n",
    "data = data.cache()\n",
    "data = data.shuffle(buffer_size=10000)"
   ]
  },
  {
   "cell_type": "code",
   "execution_count": 238,
   "metadata": {},
   "outputs": [],
   "source": [
    "# Partição de treinamento\n",
    "train_data = data.take(round(len(data)*.7))\n",
    "train_data = train_data.batch(16)\n",
    "train_data = train_data.prefetch(8)"
   ]
  },
  {
   "cell_type": "code",
   "execution_count": 239,
   "metadata": {},
   "outputs": [],
   "source": [
    "# Partição de teste\n",
    "test_data = data.skip(round(len(data)*.7))\n",
    "test_data = test_data.take(round(len(data)*.3))\n",
    "test_data = test_data.batch(16)\n",
    "test_data = test_data.prefetch(8)"
   ]
  },
  {
   "cell_type": "markdown",
   "metadata": {},
   "source": [
    "# 4. Model Engineering"
   ]
  },
  {
   "cell_type": "markdown",
   "metadata": {},
   "source": [
    "## 4.1 Build Embedding Layer"
   ]
  },
  {
   "cell_type": "code",
   "execution_count": 240,
   "metadata": {},
   "outputs": [],
   "source": [
    "inp = Input(shape=(100,100,3), name='input_image')"
   ]
  },
  {
   "cell_type": "code",
   "execution_count": 241,
   "metadata": {},
   "outputs": [],
   "source": [
    "c1 = Conv2D(64, (10,10), activation='relu')(inp)"
   ]
  },
  {
   "cell_type": "code",
   "execution_count": 242,
   "metadata": {},
   "outputs": [],
   "source": [
    "m1 = MaxPooling2D(64, (2,2), padding='same')(c1)"
   ]
  },
  {
   "cell_type": "code",
   "execution_count": 243,
   "metadata": {},
   "outputs": [],
   "source": [
    "c2 = Conv2D(128, (7,7), activation='relu')(m1)\n",
    "m2 = MaxPooling2D(64, (2,2), padding='same')(c2)"
   ]
  },
  {
   "cell_type": "code",
   "execution_count": 244,
   "metadata": {},
   "outputs": [],
   "source": [
    "c3 = Conv2D(128, (4,4), activation='relu')(m2)\n",
    "m3 = MaxPooling2D(64, (2,2), padding='same')(c3)"
   ]
  },
  {
   "cell_type": "code",
   "execution_count": 245,
   "metadata": {},
   "outputs": [],
   "source": [
    "c4 = Conv2D(256, (4,4), activation='relu')(m3)\n",
    "f1 = Flatten()(c4)\n",
    "d1 = Dense(4096, activation='sigmoid')(f1)"
   ]
  },
  {
   "cell_type": "code",
   "execution_count": 246,
   "metadata": {},
   "outputs": [],
   "source": [
    "mod = Model(inputs=[inp], outputs=[d1], name='embedding')"
   ]
  },
  {
   "cell_type": "code",
   "execution_count": 247,
   "metadata": {},
   "outputs": [
    {
     "name": "stdout",
     "output_type": "stream",
     "text": [
      "Model: \"embedding\"\n",
      "_________________________________________________________________\n",
      " Layer (type)                Output Shape              Param #   \n",
      "=================================================================\n",
      " input_image (InputLayer)    [(None, 100, 100, 3)]     0         \n",
      "                                                                 \n",
      " conv2d_16 (Conv2D)          (None, 91, 91, 64)        19264     \n",
      "                                                                 \n",
      " max_pooling2d_12 (MaxPoolin  (None, 46, 46, 64)       0         \n",
      " g2D)                                                            \n",
      "                                                                 \n",
      " conv2d_17 (Conv2D)          (None, 40, 40, 128)       401536    \n",
      "                                                                 \n",
      " max_pooling2d_13 (MaxPoolin  (None, 20, 20, 128)      0         \n",
      " g2D)                                                            \n",
      "                                                                 \n",
      " conv2d_18 (Conv2D)          (None, 17, 17, 128)       262272    \n",
      "                                                                 \n",
      " max_pooling2d_14 (MaxPoolin  (None, 9, 9, 128)        0         \n",
      " g2D)                                                            \n",
      "                                                                 \n",
      " conv2d_19 (Conv2D)          (None, 6, 6, 256)         524544    \n",
      "                                                                 \n",
      " flatten_4 (Flatten)         (None, 9216)              0         \n",
      "                                                                 \n",
      " dense_8 (Dense)             (None, 4096)              37752832  \n",
      "                                                                 \n",
      "=================================================================\n",
      "Total params: 38,960,448\n",
      "Trainable params: 38,960,448\n",
      "Non-trainable params: 0\n",
      "_________________________________________________________________\n"
     ]
    }
   ],
   "source": [
    "mod.summary()"
   ]
  },
  {
   "cell_type": "code",
   "execution_count": 248,
   "metadata": {},
   "outputs": [],
   "source": [
    "def make_embedding(): \n",
    "    inp = Input(shape=(100,100,3), name='input_image')\n",
    "    \n",
    "    # primeiro block\n",
    "    c1 = Conv2D(64, (10,10), activation='relu')(inp)\n",
    "    m1 = MaxPooling2D(64, (2,2), padding='same')(c1)\n",
    "    \n",
    "    # segundo block\n",
    "    c2 = Conv2D(128, (7,7), activation='relu')(m1)\n",
    "    m2 = MaxPooling2D(64, (2,2), padding='same')(c2)\n",
    "    \n",
    "    # terceiro block \n",
    "    c3 = Conv2D(128, (4,4), activation='relu')(m2)\n",
    "    m3 = MaxPooling2D(64, (2,2), padding='same')(c3)\n",
    "    \n",
    "    # Bloco de incorporação final\n",
    "    c4 = Conv2D(256, (4,4), activation='relu')(m3)\n",
    "    f1 = Flatten()(c4)\n",
    "    d1 = Dense(4096, activation='sigmoid')(f1)\n",
    "    \n",
    "    \n",
    "    return Model(inputs=[inp], outputs=[d1], name='embedding')"
   ]
  },
  {
   "cell_type": "code",
   "execution_count": 249,
   "metadata": {},
   "outputs": [],
   "source": [
    "embedding = make_embedding()"
   ]
  },
  {
   "cell_type": "code",
   "execution_count": 250,
   "metadata": {},
   "outputs": [
    {
     "name": "stdout",
     "output_type": "stream",
     "text": [
      "Model: \"embedding\"\n",
      "_________________________________________________________________\n",
      " Layer (type)                Output Shape              Param #   \n",
      "=================================================================\n",
      " input_image (InputLayer)    [(None, 100, 100, 3)]     0         \n",
      "                                                                 \n",
      " conv2d_20 (Conv2D)          (None, 91, 91, 64)        19264     \n",
      "                                                                 \n",
      " max_pooling2d_15 (MaxPoolin  (None, 46, 46, 64)       0         \n",
      " g2D)                                                            \n",
      "                                                                 \n",
      " conv2d_21 (Conv2D)          (None, 40, 40, 128)       401536    \n",
      "                                                                 \n",
      " max_pooling2d_16 (MaxPoolin  (None, 20, 20, 128)      0         \n",
      " g2D)                                                            \n",
      "                                                                 \n",
      " conv2d_22 (Conv2D)          (None, 17, 17, 128)       262272    \n",
      "                                                                 \n",
      " max_pooling2d_17 (MaxPoolin  (None, 9, 9, 128)        0         \n",
      " g2D)                                                            \n",
      "                                                                 \n",
      " conv2d_23 (Conv2D)          (None, 6, 6, 256)         524544    \n",
      "                                                                 \n",
      " flatten_5 (Flatten)         (None, 9216)              0         \n",
      "                                                                 \n",
      " dense_9 (Dense)             (None, 4096)              37752832  \n",
      "                                                                 \n",
      "=================================================================\n",
      "Total params: 38,960,448\n",
      "Trainable params: 38,960,448\n",
      "Non-trainable params: 0\n",
      "_________________________________________________________________\n"
     ]
    }
   ],
   "source": [
    "embedding.summary()"
   ]
  },
  {
   "cell_type": "markdown",
   "metadata": {},
   "source": [
    "## 4.2 Build Distance Layer"
   ]
  },
  {
   "cell_type": "code",
   "execution_count": 251,
   "metadata": {},
   "outputs": [],
   "source": [
    "# Classificação da distancia siamesa L1\n",
    "class L1Dist(Layer):\n",
    "    \n",
    "    def __init__(self, **kwargs):\n",
    "        super().__init__()\n",
    "       \n",
    "    # calcula similaridade\n",
    "    def call(self, input_embedding, validation_embedding):\n",
    "        return tf.math.abs(input_embedding - validation_embedding)"
   ]
  },
  {
   "cell_type": "code",
   "execution_count": 252,
   "metadata": {},
   "outputs": [],
   "source": [
    "l1 = L1Dist()"
   ]
  },
  {
   "cell_type": "code",
   "execution_count": 253,
   "metadata": {
    "tags": []
   },
   "outputs": [],
   "source": [
    "# l1(anchor_embedding, validation_embedding)"
   ]
  },
  {
   "cell_type": "markdown",
   "metadata": {},
   "source": [
    "## 4.3 Make Siamese Model"
   ]
  },
  {
   "cell_type": "code",
   "execution_count": 254,
   "metadata": {},
   "outputs": [],
   "source": [
    "input_image = Input(name='input_img', shape=(100,100,3))\n",
    "validation_image = Input(name='validation_img', shape=(100,100,3))"
   ]
  },
  {
   "cell_type": "code",
   "execution_count": 255,
   "metadata": {},
   "outputs": [],
   "source": [
    "inp_embedding = embedding(input_image)\n",
    "val_embedding = embedding(validation_image)"
   ]
  },
  {
   "cell_type": "code",
   "execution_count": 256,
   "metadata": {},
   "outputs": [],
   "source": [
    "siamese_layer = L1Dist()"
   ]
  },
  {
   "cell_type": "code",
   "execution_count": 257,
   "metadata": {},
   "outputs": [],
   "source": [
    "distances = siamese_layer(inp_embedding, val_embedding)"
   ]
  },
  {
   "cell_type": "code",
   "execution_count": 258,
   "metadata": {},
   "outputs": [],
   "source": [
    "classifier = Dense(1, activation='sigmoid')(distances)"
   ]
  },
  {
   "cell_type": "code",
   "execution_count": 259,
   "metadata": {},
   "outputs": [
    {
     "data": {
      "text/plain": [
       "<KerasTensor: shape=(None, 1) dtype=float32 (created by layer 'dense_10')>"
      ]
     },
     "execution_count": 259,
     "metadata": {},
     "output_type": "execute_result"
    }
   ],
   "source": [
    "classifier"
   ]
  },
  {
   "cell_type": "code",
   "execution_count": 260,
   "metadata": {},
   "outputs": [],
   "source": [
    "siamese_network = Model(inputs=[input_image, validation_image], outputs=classifier, name='SiameseNetwork')"
   ]
  },
  {
   "cell_type": "code",
   "execution_count": 261,
   "metadata": {},
   "outputs": [
    {
     "name": "stdout",
     "output_type": "stream",
     "text": [
      "Model: \"SiameseNetwork\"\n",
      "__________________________________________________________________________________________________\n",
      " Layer (type)                   Output Shape         Param #     Connected to                     \n",
      "==================================================================================================\n",
      " input_img (InputLayer)         [(None, 100, 100, 3  0           []                               \n",
      "                                )]                                                                \n",
      "                                                                                                  \n",
      " validation_img (InputLayer)    [(None, 100, 100, 3  0           []                               \n",
      "                                )]                                                                \n",
      "                                                                                                  \n",
      " embedding (Functional)         (None, 4096)         38960448    ['input_img[0][0]',              \n",
      "                                                                  'validation_img[0][0]']         \n",
      "                                                                                                  \n",
      " l1_dist_9 (L1Dist)             (None, 4096)         0           ['embedding[0][0]',              \n",
      "                                                                  'embedding[1][0]']              \n",
      "                                                                                                  \n",
      " dense_10 (Dense)               (None, 1)            4097        ['l1_dist_9[0][0]']              \n",
      "                                                                                                  \n",
      "==================================================================================================\n",
      "Total params: 38,964,545\n",
      "Trainable params: 38,964,545\n",
      "Non-trainable params: 0\n",
      "__________________________________________________________________________________________________\n"
     ]
    }
   ],
   "source": [
    "siamese_network.summary()"
   ]
  },
  {
   "cell_type": "code",
   "execution_count": 262,
   "metadata": {},
   "outputs": [],
   "source": [
    "def make_siamese_model(): \n",
    "    \n",
    "    # entrada da imagem ancora na rede\n",
    "    input_image = Input(name='input_img', shape=(100,100,3))\n",
    "    \n",
    "    # validaçao da imagem na rede \n",
    "    validation_image = Input(name='validation_img', shape=(100,100,3))\n",
    "    \n",
    "    # combinação das distancias dos componentes\n",
    "    siamese_layer = L1Dist()\n",
    "    siamese_layer._name = 'distance'\n",
    "    distances = siamese_layer(embedding(input_image), embedding(validation_image))\n",
    "    \n",
    "    # camada de classificação \n",
    "    classifier = Dense(1, activation='sigmoid')(distances)\n",
    "    \n",
    "    return Model(inputs=[input_image, validation_image], outputs=classifier, name='SiameseNetwork')"
   ]
  },
  {
   "cell_type": "code",
   "execution_count": 263,
   "metadata": {},
   "outputs": [],
   "source": [
    "siamese_model = make_siamese_model()"
   ]
  },
  {
   "cell_type": "code",
   "execution_count": 264,
   "metadata": {
    "tags": []
   },
   "outputs": [
    {
     "name": "stdout",
     "output_type": "stream",
     "text": [
      "Model: \"SiameseNetwork\"\n",
      "__________________________________________________________________________________________________\n",
      " Layer (type)                   Output Shape         Param #     Connected to                     \n",
      "==================================================================================================\n",
      " input_img (InputLayer)         [(None, 100, 100, 3  0           []                               \n",
      "                                )]                                                                \n",
      "                                                                                                  \n",
      " validation_img (InputLayer)    [(None, 100, 100, 3  0           []                               \n",
      "                                )]                                                                \n",
      "                                                                                                  \n",
      " embedding (Functional)         (None, 4096)         38960448    ['input_img[0][0]',              \n",
      "                                                                  'validation_img[0][0]']         \n",
      "                                                                                                  \n",
      " distance (L1Dist)              (None, 4096)         0           ['embedding[2][0]',              \n",
      "                                                                  'embedding[3][0]']              \n",
      "                                                                                                  \n",
      " dense_11 (Dense)               (None, 1)            4097        ['distance[0][0]']               \n",
      "                                                                                                  \n",
      "==================================================================================================\n",
      "Total params: 38,964,545\n",
      "Trainable params: 38,964,545\n",
      "Non-trainable params: 0\n",
      "__________________________________________________________________________________________________\n"
     ]
    }
   ],
   "source": [
    "siamese_model.summary()"
   ]
  },
  {
   "cell_type": "markdown",
   "metadata": {},
   "source": [
    "# 5. Training"
   ]
  },
  {
   "cell_type": "markdown",
   "metadata": {},
   "source": [
    "### Treino do modelo"
   ]
  },
  {
   "cell_type": "markdown",
   "metadata": {},
   "source": [
    "## 5.1 Setup Loss and Optimizer"
   ]
  },
  {
   "cell_type": "code",
   "execution_count": 265,
   "metadata": {},
   "outputs": [],
   "source": [
    "binary_cross_loss = tf.losses.BinaryCrossentropy()"
   ]
  },
  {
   "cell_type": "code",
   "execution_count": 266,
   "metadata": {},
   "outputs": [],
   "source": [
    "opt = tf.keras.optimizers.Adam(1e-4) # 0.0001"
   ]
  },
  {
   "cell_type": "markdown",
   "metadata": {},
   "source": [
    "## 5.2 Establish Checkpoints"
   ]
  },
  {
   "cell_type": "code",
   "execution_count": 267,
   "metadata": {},
   "outputs": [],
   "source": [
    "checkpoint_dir = './training_checkpoints'\n",
    "checkpoint_prefix = os.path.join(checkpoint_dir, 'ckpt')\n",
    "checkpoint = tf.train.Checkpoint(opt=opt, siamese_model=siamese_model)"
   ]
  },
  {
   "cell_type": "markdown",
   "metadata": {},
   "source": [
    "## 5.3 Build Train Step Function"
   ]
  },
  {
   "cell_type": "code",
   "execution_count": 268,
   "metadata": {},
   "outputs": [],
   "source": [
    "test_batch = train_data.as_numpy_iterator()"
   ]
  },
  {
   "cell_type": "code",
   "execution_count": 269,
   "metadata": {},
   "outputs": [],
   "source": [
    "batch_1 = test_batch.next()"
   ]
  },
  {
   "cell_type": "code",
   "execution_count": 270,
   "metadata": {},
   "outputs": [],
   "source": [
    "X = batch_1[:2]"
   ]
  },
  {
   "cell_type": "code",
   "execution_count": 271,
   "metadata": {},
   "outputs": [],
   "source": [
    "y = batch_1[2]"
   ]
  },
  {
   "cell_type": "code",
   "execution_count": 272,
   "metadata": {},
   "outputs": [
    {
     "data": {
      "text/plain": [
       "array([0., 0., 0., 0., 0., 1., 0., 0., 1., 0., 0., 0., 1., 1., 0., 0.],\n",
       "      dtype=float32)"
      ]
     },
     "execution_count": 272,
     "metadata": {},
     "output_type": "execute_result"
    }
   ],
   "source": [
    "y"
   ]
  },
  {
   "cell_type": "code",
   "execution_count": 273,
   "metadata": {
    "tags": []
   },
   "outputs": [],
   "source": [
    "@tf.function\n",
    "def train_step(batch):\n",
    "    \n",
    "    with tf.GradientTape() as tape:     \n",
    "        X = batch[:2]\n",
    "        y = batch[2]\n",
    "        \n",
    "        yhat = siamese_model(X, training=True)\n",
    "        loss = binary_cross_loss(y, yhat)\n",
    "    print(loss)\n",
    "        \n",
    "    grad = tape.gradient(loss, siamese_model.trainable_variables)\n",
    "    \n",
    "    opt.apply_gradients(zip(grad, siamese_model.trainable_variables))\n",
    "        \n",
    "    return loss"
   ]
  },
  {
   "cell_type": "markdown",
   "metadata": {},
   "source": [
    "## 5.4 Build Training Loop"
   ]
  },
  {
   "cell_type": "code",
   "execution_count": 274,
   "metadata": {},
   "outputs": [],
   "source": [
    "from tensorflow.keras.metrics import Precision, Recall"
   ]
  },
  {
   "cell_type": "code",
   "execution_count": 275,
   "metadata": {},
   "outputs": [],
   "source": [
    "def train(data, EPOCHS):\n",
    "    for epoch in range(1, EPOCHS+1):\n",
    "        print('\\n Epoch {}/{}'.format(epoch, EPOCHS))\n",
    "        progbar = tf.keras.utils.Progbar(len(data))\n",
    "        \n",
    "        r = Recall()\n",
    "        p = Precision()\n",
    "        \n",
    "        # Percorra cada lote\n",
    "        for idx, batch in enumerate(data):\n",
    "            # executa o passo de treino\n",
    "            loss = train_step(batch)\n",
    "            yhat = siamese_model.predict(batch[:2])\n",
    "            r.update_state(batch[2], yhat)\n",
    "            p.update_state(batch[2], yhat) \n",
    "            progbar.update(idx+1)\n",
    "        print(loss.numpy(), r.result().numpy(), p.result().numpy())\n",
    "        \n",
    "        # salva checkpoints\n",
    "        if epoch % 10 == 0: \n",
    "            checkpoint.save(file_prefix=checkpoint_prefix)"
   ]
  },
  {
   "cell_type": "markdown",
   "metadata": {},
   "source": [
    "## 5.5 Train the model"
   ]
  },
  {
   "cell_type": "code",
   "execution_count": 276,
   "metadata": {},
   "outputs": [],
   "source": [
    "EPOCHS = 50"
   ]
  },
  {
   "cell_type": "code",
   "execution_count": 277,
   "metadata": {
    "scrolled": true,
    "tags": []
   },
   "outputs": [
    {
     "name": "stdout",
     "output_type": "stream",
     "text": [
      "\n",
      " Epoch 1/50\n",
      "Tensor(\"binary_crossentropy/weighted_loss/value:0\", shape=(), dtype=float32)\n",
      "Tensor(\"binary_crossentropy/weighted_loss/value:0\", shape=(), dtype=float32)\n",
      "1/1 [==============================] - 2s 2s/step\n",
      "1/1 [==============================] - 2s 2s/step\n",
      "1/1 [==============================] - 2s 2s/step\n",
      "1/1 [==============================] - 2s 2s/step\n",
      "4/5 [=======================>......] - ETA: 21sTensor(\"binary_crossentropy/weighted_loss/value:0\", shape=(), dtype=float32)\n",
      "1/1 [==============================] - 1s 1s/step\n",
      "5/5 [==============================] - 98s 20s/step\n",
      "0.69059724 0.34210527 1.0\n",
      "\n",
      " Epoch 2/50\n",
      "1/1 [==============================] - 2s 2s/step\n",
      "1/1 [==============================] - 2s 2s/step\n",
      "1/1 [==============================] - 2s 2s/step\n",
      "1/1 [==============================] - 2s 2s/step\n",
      "1/1 [==============================] - 1s 1s/step\n",
      "5/5 [==============================] - 105s 21s/step\n",
      "0.5265919 0.21212122 1.0\n",
      "\n",
      " Epoch 3/50\n",
      "1/1 [==============================] - 2s 2s/step\n",
      "1/1 [==============================] - 2s 2s/step\n",
      "1/1 [==============================] - 2s 2s/step\n",
      "1/1 [==============================] - 2s 2s/step\n",
      "1/1 [==============================] - 1s 1s/step\n",
      "5/5 [==============================] - 100s 20s/step\n",
      "0.49931955 0.45714286 1.0\n",
      "\n",
      " Epoch 4/50\n",
      "1/1 [==============================] - 2s 2s/step\n",
      "1/1 [==============================] - 2s 2s/step\n",
      "1/1 [==============================] - 2s 2s/step\n",
      "1/1 [==============================] - 2s 2s/step\n",
      "1/1 [==============================] - 1s 1s/step\n",
      "5/5 [==============================] - 105s 20s/step\n",
      "0.43753046 0.71794873 1.0\n",
      "\n",
      " Epoch 5/50\n",
      "1/1 [==============================] - 2s 2s/step\n",
      "1/1 [==============================] - 2s 2s/step\n",
      "1/1 [==============================] - 2s 2s/step\n",
      "1/1 [==============================] - 2s 2s/step\n",
      "1/1 [==============================] - 1s 1s/step\n",
      "5/5 [==============================] - 104s 21s/step\n",
      "0.13158558 0.84375 0.96428573\n",
      "\n",
      " Epoch 6/50\n",
      "1/1 [==============================] - 2s 2s/step\n",
      "1/1 [==============================] - 2s 2s/step\n",
      "1/1 [==============================] - 2s 2s/step\n",
      "1/1 [==============================] - 2s 2s/step\n",
      "1/1 [==============================] - 1s 1s/step\n",
      "5/5 [==============================] - 105s 21s/step\n",
      "0.15029752 0.8947368 1.0\n",
      "\n",
      " Epoch 7/50\n",
      "1/1 [==============================] - 2s 2s/step\n",
      "1/1 [==============================] - 2s 2s/step\n",
      "1/1 [==============================] - 2s 2s/step\n",
      "1/1 [==============================] - 2s 2s/step\n",
      "1/1 [==============================] - 1s 1s/step\n",
      "5/5 [==============================] - 105s 21s/step\n",
      "0.16681962 0.9166667 0.9705882\n",
      "\n",
      " Epoch 8/50\n",
      "1/1 [==============================] - 2s 2s/step\n",
      "1/1 [==============================] - 2s 2s/step\n",
      "1/1 [==============================] - 2s 2s/step\n",
      "1/1 [==============================] - 2s 2s/step\n",
      "1/1 [==============================] - 1s 1s/step\n",
      "5/5 [==============================] - 105s 20s/step\n",
      "0.29005426 0.9459459 1.0\n",
      "\n",
      " Epoch 9/50\n",
      "1/1 [==============================] - 2s 2s/step\n",
      "1/1 [==============================] - 2s 2s/step\n",
      "1/1 [==============================] - 2s 2s/step\n",
      "1/1 [==============================] - 2s 2s/step\n",
      "1/1 [==============================] - 1s 1s/step\n",
      "5/5 [==============================] - 104s 21s/step\n",
      "0.11737887 0.9655172 1.0\n",
      "\n",
      " Epoch 10/50\n",
      "1/1 [==============================] - 2s 2s/step\n",
      "1/1 [==============================] - 2s 2s/step\n",
      "1/1 [==============================] - 2s 2s/step\n",
      "1/1 [==============================] - 2s 2s/step\n",
      "1/1 [==============================] - 1s 1s/step\n",
      "5/5 [==============================] - 109s 21s/step\n",
      "0.15759347 1.0 1.0\n",
      "\n",
      " Epoch 11/50\n",
      "1/1 [==============================] - 2s 2s/step\n",
      "1/1 [==============================] - 2s 2s/step\n",
      "1/1 [==============================] - 2s 2s/step\n",
      "1/1 [==============================] - 2s 2s/step\n",
      "1/1 [==============================] - 1s 1s/step\n",
      "5/5 [==============================] - 119s 22s/step\n",
      "0.11270213 0.9736842 1.0\n",
      "\n",
      " Epoch 12/50\n",
      "1/1 [==============================] - 2s 2s/step\n",
      "1/1 [==============================] - 2s 2s/step\n",
      "1/1 [==============================] - 2s 2s/step\n",
      "1/1 [==============================] - 2s 2s/step\n",
      "1/1 [==============================] - 2s 2s/step\n",
      "5/5 [==============================] - 111s 22s/step\n",
      "0.055032812 1.0 1.0\n",
      "\n",
      " Epoch 13/50\n",
      "1/1 [==============================] - 2s 2s/step\n",
      "1/1 [==============================] - 2s 2s/step\n",
      "1/1 [==============================] - 2s 2s/step\n",
      "1/1 [==============================] - 2s 2s/step\n",
      "1/1 [==============================] - 1s 1s/step\n",
      "5/5 [==============================] - 112s 22s/step\n",
      "0.057970136 1.0 1.0\n",
      "\n",
      " Epoch 14/50\n",
      "1/1 [==============================] - 2s 2s/step\n",
      "1/1 [==============================] - 2s 2s/step\n",
      "1/1 [==============================] - 2s 2s/step\n",
      "1/1 [==============================] - 2s 2s/step\n",
      "1/1 [==============================] - 1s 1s/step\n",
      "5/5 [==============================] - 112s 22s/step\n",
      "0.057602078 1.0 1.0\n",
      "\n",
      " Epoch 15/50\n",
      "1/1 [==============================] - 2s 2s/step\n",
      "1/1 [==============================] - 2s 2s/step\n",
      "1/1 [==============================] - 2s 2s/step\n",
      "1/1 [==============================] - 2s 2s/step\n",
      "1/1 [==============================] - 1s 1s/step\n",
      "5/5 [==============================] - 118s 23s/step\n",
      "0.028204283 1.0 1.0\n",
      "\n",
      " Epoch 16/50\n",
      "1/1 [==============================] - 2s 2s/step\n",
      "1/1 [==============================] - 2s 2s/step\n",
      "1/1 [==============================] - 2s 2s/step\n",
      "1/1 [==============================] - 2s 2s/step\n",
      "1/1 [==============================] - 1s 1s/step\n",
      "5/5 [==============================] - 106s 21s/step\n",
      "0.040272 1.0 1.0\n",
      "\n",
      " Epoch 17/50\n",
      "1/1 [==============================] - 2s 2s/step\n",
      "1/1 [==============================] - 2s 2s/step\n",
      "1/1 [==============================] - 2s 2s/step\n",
      "1/1 [==============================] - 2s 2s/step\n",
      "1/1 [==============================] - 1s 1s/step\n",
      "5/5 [==============================] - 106s 21s/step\n",
      "0.010879391 1.0 1.0\n",
      "\n",
      " Epoch 18/50\n",
      "1/1 [==============================] - 2s 2s/step\n",
      "1/1 [==============================] - 3s 3s/step\n",
      "1/1 [==============================] - 2s 2s/step\n",
      "1/1 [==============================] - 2s 2s/step\n",
      "1/1 [==============================] - 2s 2s/step\n",
      "5/5 [==============================] - 106s 21s/step\n",
      "0.021754589 1.0 1.0\n",
      "\n",
      " Epoch 19/50\n",
      "1/1 [==============================] - 2s 2s/step\n",
      "1/1 [==============================] - 2s 2s/step\n",
      "1/1 [==============================] - 2s 2s/step\n",
      "1/1 [==============================] - 2s 2s/step\n",
      "1/1 [==============================] - 1s 1s/step\n",
      "5/5 [==============================] - 103s 20s/step\n",
      "0.030906498 1.0 1.0\n",
      "\n",
      " Epoch 20/50\n",
      "1/1 [==============================] - 2s 2s/step\n",
      "1/1 [==============================] - 2s 2s/step\n",
      "1/1 [==============================] - 2s 2s/step\n",
      "1/1 [==============================] - 2s 2s/step\n",
      "1/1 [==============================] - 1s 1s/step\n",
      "5/5 [==============================] - 104s 20s/step\n",
      "0.021116031 1.0 1.0\n",
      "\n",
      " Epoch 21/50\n",
      "1/1 [==============================] - 2s 2s/step\n",
      "1/1 [==============================] - 2s 2s/step\n",
      "1/1 [==============================] - 2s 2s/step\n",
      "1/1 [==============================] - 2s 2s/step\n",
      "1/1 [==============================] - 1s 1s/step\n",
      "5/5 [==============================] - 115s 21s/step\n",
      "0.009062996 1.0 1.0\n",
      "\n",
      " Epoch 22/50\n",
      "1/1 [==============================] - 2s 2s/step\n",
      "1/1 [==============================] - 2s 2s/step\n",
      "1/1 [==============================] - 2s 2s/step\n",
      "1/1 [==============================] - 2s 2s/step\n",
      "1/1 [==============================] - 1s 1s/step\n",
      "5/5 [==============================] - 107s 21s/step\n",
      "0.007194416 1.0 1.0\n",
      "\n",
      " Epoch 23/50\n",
      "1/1 [==============================] - 2s 2s/step\n",
      "1/1 [==============================] - 2s 2s/step\n",
      "1/1 [==============================] - 2s 2s/step\n",
      "1/1 [==============================] - 2s 2s/step\n",
      "1/1 [==============================] - 2s 2s/step\n",
      "5/5 [==============================] - 109s 21s/step\n",
      "0.0037139296 1.0 1.0\n",
      "\n",
      " Epoch 24/50\n",
      "1/1 [==============================] - 2s 2s/step\n",
      "1/1 [==============================] - 2s 2s/step\n",
      "1/1 [==============================] - 2s 2s/step\n",
      "1/1 [==============================] - 2s 2s/step\n",
      "1/1 [==============================] - 1s 1s/step\n",
      "5/5 [==============================] - 105s 21s/step\n",
      "0.00091291685 1.0 1.0\n",
      "\n",
      " Epoch 25/50\n",
      "1/1 [==============================] - 2s 2s/step\n",
      "1/1 [==============================] - 2s 2s/step\n",
      "1/1 [==============================] - 2s 2s/step\n",
      "1/1 [==============================] - 2s 2s/step\n",
      "1/1 [==============================] - 1s 1s/step\n",
      "5/5 [==============================] - 105s 20s/step\n",
      "0.0015783748 1.0 1.0\n",
      "\n",
      " Epoch 26/50\n",
      "1/1 [==============================] - 2s 2s/step\n",
      "1/1 [==============================] - 2s 2s/step\n",
      "1/1 [==============================] - 2s 2s/step\n",
      "1/1 [==============================] - 2s 2s/step\n",
      "1/1 [==============================] - 1s 1s/step\n",
      "5/5 [==============================] - 106s 21s/step\n",
      "0.0128373625 1.0 1.0\n",
      "\n",
      " Epoch 27/50\n",
      "1/1 [==============================] - 2s 2s/step\n",
      "1/1 [==============================] - 2s 2s/step\n",
      "1/1 [==============================] - 2s 2s/step\n",
      "1/1 [==============================] - 2s 2s/step\n",
      "1/1 [==============================] - 1s 1s/step\n",
      "5/5 [==============================] - 104s 21s/step\n",
      "0.0040128855 1.0 1.0\n",
      "\n",
      " Epoch 28/50\n",
      "1/1 [==============================] - 2s 2s/step\n",
      "1/1 [==============================] - 2s 2s/step\n",
      "1/1 [==============================] - 2s 2s/step\n",
      "1/1 [==============================] - 2s 2s/step\n",
      "1/1 [==============================] - 1s 1s/step\n",
      "5/5 [==============================] - 104s 20s/step\n",
      "0.048807524 1.0 1.0\n",
      "\n",
      " Epoch 29/50\n",
      "1/1 [==============================] - 2s 2s/step\n",
      "1/1 [==============================] - 2s 2s/step\n",
      "1/1 [==============================] - 2s 2s/step\n",
      "1/1 [==============================] - 2s 2s/step\n",
      "1/1 [==============================] - 1s 1s/step\n",
      "5/5 [==============================] - 106s 21s/step\n",
      "0.057147287 1.0 1.0\n",
      "\n",
      " Epoch 30/50\n",
      "1/1 [==============================] - 2s 2s/step\n",
      "1/1 [==============================] - 2s 2s/step\n",
      "1/1 [==============================] - 2s 2s/step\n",
      "1/1 [==============================] - 2s 2s/step\n",
      "1/1 [==============================] - 1s 1s/step\n",
      "5/5 [==============================] - 105s 21s/step\n",
      "0.006908634 1.0 1.0\n",
      "\n",
      " Epoch 31/50\n",
      "1/1 [==============================] - 2s 2s/step\n",
      "1/1 [==============================] - 2s 2s/step\n",
      "1/1 [==============================] - 2s 2s/step\n",
      "1/1 [==============================] - 2s 2s/step\n",
      "1/1 [==============================] - 1s 1s/step\n",
      "5/5 [==============================] - 115s 21s/step\n",
      "0.0073739653 1.0 1.0\n",
      "\n",
      " Epoch 32/50\n",
      "1/1 [==============================] - 2s 2s/step\n",
      "1/1 [==============================] - 2s 2s/step\n",
      "1/1 [==============================] - 2s 2s/step\n",
      "1/1 [==============================] - 2s 2s/step\n",
      "1/1 [==============================] - 1s 1s/step\n",
      "5/5 [==============================] - 105s 21s/step\n",
      "0.008801761 1.0 1.0\n",
      "\n",
      " Epoch 33/50\n",
      "1/1 [==============================] - 2s 2s/step\n",
      "1/1 [==============================] - 2s 2s/step\n",
      "1/1 [==============================] - 2s 2s/step\n",
      "1/1 [==============================] - 2s 2s/step\n",
      "1/1 [==============================] - 1s 1s/step\n",
      "5/5 [==============================] - 104s 20s/step\n",
      "0.008785655 1.0 1.0\n",
      "\n",
      " Epoch 34/50\n",
      "1/1 [==============================] - 2s 2s/step\n",
      "1/1 [==============================] - 2s 2s/step\n",
      "1/1 [==============================] - 2s 2s/step\n",
      "1/1 [==============================] - 2s 2s/step\n",
      "1/1 [==============================] - 1s 1s/step\n",
      "5/5 [==============================] - 105s 20s/step\n",
      "0.0047418997 1.0 1.0\n",
      "\n",
      " Epoch 35/50\n",
      "1/1 [==============================] - 2s 2s/step\n",
      "1/1 [==============================] - 2s 2s/step\n",
      "1/1 [==============================] - 2s 2s/step\n",
      "1/1 [==============================] - 2s 2s/step\n",
      "1/1 [==============================] - 1s 1s/step\n",
      "5/5 [==============================] - 105s 21s/step\n",
      "0.0746104 1.0 1.0\n",
      "\n",
      " Epoch 36/50\n",
      "1/1 [==============================] - 2s 2s/step\n",
      "1/1 [==============================] - 3s 3s/step\n",
      "1/1 [==============================] - 2s 2s/step\n",
      "1/1 [==============================] - 2s 2s/step\n",
      "1/1 [==============================] - 1s 1s/step\n",
      "5/5 [==============================] - 106s 21s/step\n",
      "0.032740913 1.0 1.0\n",
      "\n",
      " Epoch 37/50\n",
      "1/1 [==============================] - 2s 2s/step\n",
      "1/1 [==============================] - 2s 2s/step\n",
      "1/1 [==============================] - 2s 2s/step\n",
      "1/1 [==============================] - 2s 2s/step\n",
      "1/1 [==============================] - 1s 1s/step\n",
      "5/5 [==============================] - 103s 20s/step\n",
      "0.014804743 1.0 1.0\n",
      "\n",
      " Epoch 38/50\n",
      "1/1 [==============================] - 2s 2s/step\n",
      "1/1 [==============================] - 2s 2s/step\n",
      "1/1 [==============================] - 2s 2s/step\n",
      "1/1 [==============================] - 2s 2s/step\n",
      "1/1 [==============================] - 1s 1s/step\n",
      "5/5 [==============================] - 104s 20s/step\n",
      "0.025930528 1.0 1.0\n",
      "\n",
      " Epoch 39/50\n",
      "1/1 [==============================] - 2s 2s/step\n",
      "1/1 [==============================] - 2s 2s/step\n",
      "1/1 [==============================] - 2s 2s/step\n",
      "1/1 [==============================] - 3s 3s/step\n",
      "1/1 [==============================] - 1s 1s/step\n",
      "5/5 [==============================] - 105s 21s/step\n",
      "0.012001689 1.0 1.0\n",
      "\n",
      " Epoch 40/50\n",
      "1/1 [==============================] - 2s 2s/step\n",
      "1/1 [==============================] - 3s 3s/step\n",
      "1/1 [==============================] - 2s 2s/step\n",
      "1/1 [==============================] - 2s 2s/step\n",
      "1/1 [==============================] - 1s 1s/step\n",
      "5/5 [==============================] - 107s 21s/step\n",
      "0.0002692881 1.0 1.0\n",
      "\n",
      " Epoch 41/50\n",
      "1/1 [==============================] - 2s 2s/step\n",
      "1/1 [==============================] - 3s 3s/step\n",
      "1/1 [==============================] - 2s 2s/step\n",
      "1/1 [==============================] - 2s 2s/step\n",
      "1/1 [==============================] - 2s 2s/step\n",
      "5/5 [==============================] - 115s 21s/step\n",
      "0.00028084096 1.0 1.0\n",
      "\n",
      " Epoch 42/50\n",
      "1/1 [==============================] - 2s 2s/step\n",
      "1/1 [==============================] - 2s 2s/step\n",
      "1/1 [==============================] - 2s 2s/step\n",
      "1/1 [==============================] - 2s 2s/step\n",
      "1/1 [==============================] - 1s 1s/step\n",
      "5/5 [==============================] - 104s 20s/step\n",
      "0.0016256704 1.0 1.0\n",
      "\n",
      " Epoch 43/50\n",
      "1/1 [==============================] - 2s 2s/step\n",
      "1/1 [==============================] - 2s 2s/step\n",
      "1/1 [==============================] - 2s 2s/step\n",
      "1/1 [==============================] - 2s 2s/step\n",
      "1/1 [==============================] - 1s 1s/step\n",
      "5/5 [==============================] - 106s 21s/step\n",
      "0.0017170284 1.0 1.0\n",
      "\n",
      " Epoch 44/50\n",
      "1/1 [==============================] - 2s 2s/step\n",
      "1/1 [==============================] - 2s 2s/step\n",
      "1/1 [==============================] - 2s 2s/step\n",
      "1/1 [==============================] - 2s 2s/step\n",
      "1/1 [==============================] - 1s 1s/step\n",
      "5/5 [==============================] - 105s 21s/step\n",
      "0.0010863089 1.0 1.0\n",
      "\n",
      " Epoch 45/50\n",
      "1/1 [==============================] - 2s 2s/step\n",
      "1/1 [==============================] - 3s 3s/step\n",
      "1/1 [==============================] - 2s 2s/step\n",
      "1/1 [==============================] - 2s 2s/step\n",
      "1/1 [==============================] - 2s 2s/step\n",
      "5/5 [==============================] - 106s 21s/step\n",
      "0.0011693283 1.0 1.0\n",
      "\n",
      " Epoch 46/50\n",
      "1/1 [==============================] - 2s 2s/step\n",
      "1/1 [==============================] - 2s 2s/step\n",
      "1/1 [==============================] - 2s 2s/step\n",
      "1/1 [==============================] - 2s 2s/step\n",
      "1/1 [==============================] - 1s 1s/step\n",
      "5/5 [==============================] - 105s 21s/step\n",
      "0.00038751977 1.0 1.0\n",
      "\n",
      " Epoch 47/50\n",
      "1/1 [==============================] - 2s 2s/step\n",
      "1/1 [==============================] - 2s 2s/step\n",
      "1/1 [==============================] - 2s 2s/step\n",
      "1/1 [==============================] - 2s 2s/step\n",
      "1/1 [==============================] - 1s 1s/step\n",
      "5/5 [==============================] - 107s 21s/step\n",
      "4.1724623e-05 1.0 1.0\n",
      "\n",
      " Epoch 48/50\n",
      "1/1 [==============================] - 2s 2s/step\n",
      "1/1 [==============================] - 2s 2s/step\n",
      "1/1 [==============================] - 2s 2s/step\n",
      "1/1 [==============================] - 2s 2s/step\n",
      "1/1 [==============================] - 1s 1s/step\n",
      "5/5 [==============================] - 105s 21s/step\n",
      "0.00026350477 1.0 1.0\n",
      "\n",
      " Epoch 49/50\n",
      "1/1 [==============================] - 2s 2s/step\n",
      "1/1 [==============================] - 2s 2s/step\n",
      "1/1 [==============================] - 2s 2s/step\n",
      "1/1 [==============================] - 2s 2s/step\n",
      "1/1 [==============================] - 1s 1s/step\n",
      "5/5 [==============================] - 109s 21s/step\n",
      "0.0005350326 1.0 1.0\n",
      "\n",
      " Epoch 50/50\n",
      "1/1 [==============================] - 2s 2s/step\n",
      "1/1 [==============================] - 2s 2s/step\n",
      "1/1 [==============================] - 2s 2s/step\n",
      "1/1 [==============================] - 2s 2s/step\n",
      "1/1 [==============================] - 1s 1s/step\n",
      "5/5 [==============================] - 104s 20s/step\n",
      "0.00027870105 1.0 1.0\n"
     ]
    }
   ],
   "source": [
    "train(train_data, EPOCHS)"
   ]
  },
  {
   "cell_type": "markdown",
   "metadata": {
    "tags": []
   },
   "source": [
    "# 6. Evaluate Model"
   ]
  },
  {
   "cell_type": "markdown",
   "metadata": {},
   "source": [
    "## 6.1 Import Metrics"
   ]
  },
  {
   "cell_type": "code",
   "execution_count": 278,
   "metadata": {},
   "outputs": [],
   "source": [
    "# Importar cálculos de métricas\n",
    "from tensorflow.keras.metrics import Precision, Recall"
   ]
  },
  {
   "cell_type": "markdown",
   "metadata": {},
   "source": [
    "## 6.2 Make Predictions"
   ]
  },
  {
   "cell_type": "code",
   "execution_count": 279,
   "metadata": {},
   "outputs": [],
   "source": [
    "# Obter um lote de dados de teste\n",
    "test_input, test_val, y_true = test_data.as_numpy_iterator().next()"
   ]
  },
  {
   "cell_type": "code",
   "execution_count": 280,
   "metadata": {
    "tags": []
   },
   "outputs": [
    {
     "name": "stdout",
     "output_type": "stream",
     "text": [
      "1/1 [==============================] - 2s 2s/step\n"
     ]
    }
   ],
   "source": [
    "y_hat = siamese_model.predict([test_input, test_val])"
   ]
  },
  {
   "cell_type": "code",
   "execution_count": 281,
   "metadata": {
    "tags": []
   },
   "outputs": [
    {
     "data": {
      "text/plain": [
       "[1, 1, 0, 1, 0, 1, 1, 1, 0, 0, 0, 0, 0, 0, 0, 1]"
      ]
     },
     "execution_count": 281,
     "metadata": {},
     "output_type": "execute_result"
    }
   ],
   "source": [
    "# Pós-processamento dos resultados\n",
    "[1 if prediction > 0.5 else 0 for prediction in y_hat ]"
   ]
  },
  {
   "cell_type": "code",
   "execution_count": 282,
   "metadata": {
    "tags": []
   },
   "outputs": [
    {
     "data": {
      "text/plain": [
       "array([1., 1., 0., 1., 0., 1., 1., 1., 0., 0., 0., 0., 0., 0., 0., 1.],\n",
       "      dtype=float32)"
      ]
     },
     "execution_count": 282,
     "metadata": {},
     "output_type": "execute_result"
    }
   ],
   "source": [
    "y_true"
   ]
  },
  {
   "cell_type": "markdown",
   "metadata": {},
   "source": [
    "## 6.3 Calculate Metrics"
   ]
  },
  {
   "cell_type": "code",
   "execution_count": 283,
   "metadata": {},
   "outputs": [
    {
     "data": {
      "text/plain": [
       "1.0"
      ]
     },
     "execution_count": 283,
     "metadata": {},
     "output_type": "execute_result"
    }
   ],
   "source": [
    "m = Recall()\n",
    "\n",
    "m.update_state(y_true, y_hat)\n",
    "\n",
    "m.result().numpy()"
   ]
  },
  {
   "cell_type": "code",
   "execution_count": 284,
   "metadata": {},
   "outputs": [
    {
     "data": {
      "text/plain": [
       "1.0"
      ]
     },
     "execution_count": 284,
     "metadata": {},
     "output_type": "execute_result"
    }
   ],
   "source": [
    "m = Precision()\n",
    "\n",
    "m.update_state(y_true, y_hat)\n",
    "\n",
    "m.result().numpy()"
   ]
  },
  {
   "cell_type": "code",
   "execution_count": 285,
   "metadata": {},
   "outputs": [
    {
     "name": "stdout",
     "output_type": "stream",
     "text": [
      "1/1 [==============================] - 4s 4s/step\n",
      "1/1 [==============================] - 4s 4s/step\n",
      "1.0 1.0\n"
     ]
    }
   ],
   "source": [
    "r = Recall()\n",
    "p = Precision()\n",
    "\n",
    "for test_input, test_val, y_true in test_data.as_numpy_iterator():\n",
    "    yhat = siamese_model.predict([test_input, test_val])\n",
    "    r.update_state(y_true, yhat)\n",
    "    p.update_state(y_true,yhat) \n",
    "\n",
    "print(r.result().numpy(), p.result().numpy())"
   ]
  },
  {
   "cell_type": "markdown",
   "metadata": {},
   "source": [
    "## 6.4 Viz Results"
   ]
  },
  {
   "cell_type": "markdown",
   "metadata": {},
   "source": [
    "### Visualizando os resultados"
   ]
  },
  {
   "cell_type": "code",
   "execution_count": 286,
   "metadata": {},
   "outputs": [
    {
     "data": {
      "image/png": "[encoded data removed]",
      "text/plain": [
       "<Figure size 1000x800 with 2 Axes>"
      ]
     },
     "metadata": {},
     "output_type": "display_data"
    }
   ],
   "source": [
    "plt.figure(figsize=(10,8))\n",
    "\n",
    "plt.subplot(1,2,1)\n",
    "plt.imshow(test_input[0])\n",
    "\n",
    "plt.subplot(1,2,2)\n",
    "plt.imshow(test_val[0])\n",
    "\n",
    "plt.show()"
   ]
  },
  {
   "cell_type": "markdown",
   "metadata": {},
   "source": [
    "# 7. Save Model"
   ]
  },
  {
   "cell_type": "code",
   "execution_count": 287,
   "metadata": {},
   "outputs": [
    {
     "name": "stdout",
     "output_type": "stream",
     "text": [
      "WARNING:tensorflow:Compiled the loaded model, but the compiled metrics have yet to be built. `model.compile_metrics` will be empty until you train or evaluate the model.\n"
     ]
    }
   ],
   "source": [
    "# Salvar pesos\n",
    "siamese_model.save('siamesemodelv2.h5')"
   ]
  },
  {
   "cell_type": "code",
   "execution_count": 288,
   "metadata": {},
   "outputs": [
    {
     "data": {
      "text/plain": [
       "__main__.L1Dist"
      ]
     },
     "execution_count": 288,
     "metadata": {},
     "output_type": "execute_result"
    }
   ],
   "source": [
    "L1Dist"
   ]
  },
  {
   "cell_type": "code",
   "execution_count": 289,
   "metadata": {},
   "outputs": [
    {
     "name": "stdout",
     "output_type": "stream",
     "text": [
      "WARNING:tensorflow:No training configuration found in the save file, so the model was *not* compiled. Compile it manually.\n"
     ]
    }
   ],
   "source": [
    "# Recarregando o modelo\n",
    "siamese_model = tf.keras.models.load_model('siamesemodelv2.h5', \n",
    "                                   custom_objects={'L1Dist':L1Dist, 'BinaryCrossentropy':tf.losses.BinaryCrossentropy})"
   ]
  },
  {
   "cell_type": "code",
   "execution_count": 290,
   "metadata": {},
   "outputs": [
    {
     "name": "stdout",
     "output_type": "stream",
     "text": [
      "1/1 [==============================] - 3s 3s/step\n"
     ]
    },
    {
     "data": {
      "text/plain": [
       "array([[9.9986708e-01],\n",
       "       [1.2224484e-05],\n",
       "       [3.0170177e-08],\n",
       "       [9.9991536e-01],\n",
       "       [1.0000000e+00],\n",
       "       [1.0000000e+00],\n",
       "       [5.4687862e-06],\n",
       "       [1.9868924e-06],\n",
       "       [9.9998426e-01],\n",
       "       [5.0871247e-05],\n",
       "       [9.9967921e-01],\n",
       "       [1.0000000e+00],\n",
       "       [2.6061754e-05],\n",
       "       [9.9991953e-01],\n",
       "       [2.7964902e-03]], dtype=float32)"
      ]
     },
     "execution_count": 290,
     "metadata": {},
     "output_type": "execute_result"
    }
   ],
   "source": [
    "# previsões com modelo recarregado\n",
    "siamese_model.predict([test_input, test_val])"
   ]
  },
  {
   "cell_type": "code",
   "execution_count": 291,
   "metadata": {},
   "outputs": [
    {
     "name": "stdout",
     "output_type": "stream",
     "text": [
      "Model: \"SiameseNetwork\"\n",
      "__________________________________________________________________________________________________\n",
      " Layer (type)                   Output Shape         Param #     Connected to                     \n",
      "==================================================================================================\n",
      " input_img (InputLayer)         [(None, 100, 100, 3  0           []                               \n",
      "                                )]                                                                \n",
      "                                                                                                  \n",
      " validation_img (InputLayer)    [(None, 100, 100, 3  0           []                               \n",
      "                                )]                                                                \n",
      "                                                                                                  \n",
      " embedding (Functional)         (None, 4096)         38960448    ['input_img[0][0]',              \n",
      "                                                                  'validation_img[0][0]']         \n",
      "                                                                                                  \n",
      " l1_dist_11 (L1Dist)            (None, 4096)         0           ['embedding[0][0]',              \n",
      "                                                                  'embedding[1][0]']              \n",
      "                                                                                                  \n",
      " dense_11 (Dense)               (None, 1)            4097        ['l1_dist_11[0][0]']             \n",
      "                                                                                                  \n",
      "==================================================================================================\n",
      "Total params: 38,964,545\n",
      "Trainable params: 38,964,545\n",
      "Non-trainable params: 0\n",
      "__________________________________________________________________________________________________\n"
     ]
    }
   ],
   "source": [
    "# resumo do modelo\n",
    "siamese_model.summary()"
   ]
  },
  {
   "cell_type": "markdown",
   "metadata": {},
   "source": [
    "# 8. Real Time Test"
   ]
  },
  {
   "cell_type": "markdown",
   "metadata": {},
   "source": [
    "## 8.1 Verification Function"
   ]
  },
  {
   "cell_type": "code",
   "execution_count": 292,
   "metadata": {},
   "outputs": [],
   "source": [
    "# application_data//verification_images"
   ]
  },
  {
   "cell_type": "code",
   "execution_count": 293,
   "metadata": {},
   "outputs": [
    {
     "data": {
      "text/plain": [
       "['4b783c73-7188-11ed-a91a-6432a87b22d4.jpg',\n",
       " '4ba2b8de-7188-11ed-8ef4-6432a87b22d4.jpg',\n",
       " '4c4920a6-7188-11ed-ae57-6432a87b22d4.jpg',\n",
       " '4c6d4a45-7188-11ed-8b9b-6432a87b22d4.jpg',\n",
       " '4c90a94f-7188-11ed-abd7-6432a87b22d4.jpg',\n",
       " '4cd828d9-7188-11ed-ad95-6432a87b22d4.jpg',\n",
       " '4d4a7a26-7188-11ed-885b-6432a87b22d4.jpg',\n",
       " '4da6f5cb-7188-11ed-9cae-6432a87b22d4.jpg',\n",
       " '4df2ea50-7188-11ed-baba-6432a87b22d4.jpg',\n",
       " '4e169155-7188-11ed-85bf-6432a87b22d4.jpg',\n",
       " '4e3a3dc4-7188-11ed-aefa-6432a87b22d4.jpg',\n",
       " '4e88ce4a-7188-11ed-9876-6432a87b22d4.jpg',\n",
       " '4ef18675-7188-11ed-b9bf-6432a87b22d4.jpg',\n",
       " '4f7b7bf9-7188-11ed-8b6e-6432a87b22d4.jpg',\n",
       " '4fdf9c1b-7188-11ed-9ddc-6432a87b22d4.jpg',\n",
       " '502e6bcb-7188-11ed-b691-6432a87b22d4.jpg',\n",
       " '50d78d82-7188-11ed-bb39-6432a87b22d4.jpg',\n",
       " '5102732d-7188-11ed-b31c-6432a87b22d4.jpg',\n",
       " '512d0a72-7188-11ed-969f-6432a87b22d4.jpg',\n",
       " '519823bb-7188-11ed-b5c1-6432a87b22d4.jpg',\n",
       " '557f8528-7188-11ed-9307-6432a87b22d4.jpg',\n",
       " '55a34473-7188-11ed-bcfb-6432a87b22d4.jpg',\n",
       " '572cabd3-7188-11ed-8d76-6432a87b22d4.jpg',\n",
       " '578ed7ac-7188-11ed-ae6d-6432a87b22d4.jpg',\n",
       " '57b28d5e-7188-11ed-a21f-6432a87b22d4.jpg',\n",
       " '57fca492-7188-11ed-8ef7-6432a87b22d4.jpg',\n",
       " '586ebaaa-7188-11ed-8826-6432a87b22d4.jpg',\n",
       " '5892ad7c-7188-11ed-84a0-6432a87b22d4.jpg',\n",
       " '59f9c20a-7188-11ed-8516-6432a87b22d4.jpg',\n",
       " '5a26cc64-7188-11ed-859d-6432a87b22d4.jpg',\n",
       " '5a6e0a3b-7188-11ed-9414-6432a87b22d4.jpg',\n",
       " '5aae76b5-7188-11ed-a1de-6432a87b22d4.jpg',\n",
       " '5ad22519-7188-11ed-8337-6432a87b22d4.jpg',\n",
       " '621e91d5-7185-11ed-a338-6432a87b22d4 copy.jpg',\n",
       " '621e91d5-7185-11ed-a338-6432a87b22d4.jpg',\n",
       " '62516925-7185-11ed-bd5d-6432a87b22d4 copy.jpg',\n",
       " '62516925-7185-11ed-bd5d-6432a87b22d4.jpg',\n",
       " '62b08d55-7185-11ed-ba49-6432a87b22d4 copy.jpg',\n",
       " '62b08d55-7185-11ed-ba49-6432a87b22d4.jpg',\n",
       " '647b9e81-7185-11ed-b00d-6432a87b22d4 copy.jpg',\n",
       " '647b9e81-7185-11ed-b00d-6432a87b22d4.jpg',\n",
       " '65a620ca-7185-11ed-aa1c-6432a87b22d4 copy.jpg',\n",
       " '65a620ca-7185-11ed-aa1c-6432a87b22d4.jpg',\n",
       " '66cf241d-7185-11ed-8f69-6432a87b22d4 copy.jpg',\n",
       " '66cf241d-7185-11ed-8f69-6432a87b22d4.jpg',\n",
       " '6ed94462-7185-11ed-84a6-6432a87b22d4 copy.jpg',\n",
       " '6ed94462-7185-11ed-84a6-6432a87b22d4.jpg',\n",
       " '6f57d564-7185-11ed-8567-6432a87b22d4 copy.jpg',\n",
       " '6f57d564-7185-11ed-8567-6432a87b22d4.jpg',\n",
       " 'ebfeffbc-7184-11ed-a1f4-6432a87b22d4 copy 2.jpg',\n",
       " 'ebfeffbc-7184-11ed-a1f4-6432a87b22d4 copy.jpg',\n",
       " 'ebfeffbc-7184-11ed-a1f4-6432a87b22d4.jpg',\n",
       " 'ec5455cc-7184-11ed-b666-6432a87b22d4 copy 2.jpg',\n",
       " 'ec5455cc-7184-11ed-b666-6432a87b22d4 copy.jpg',\n",
       " 'ec5455cc-7184-11ed-b666-6432a87b22d4.jpg',\n",
       " 'ef9e6846-7184-11ed-a30d-6432a87b22d4 copy 2.jpg',\n",
       " 'ef9e6846-7184-11ed-a30d-6432a87b22d4 copy.jpg',\n",
       " 'ef9e6846-7184-11ed-a30d-6432a87b22d4.jpg',\n",
       " 'f143cc9d-7184-11ed-8a2a-6432a87b22d4 copy 2.jpg',\n",
       " 'f143cc9d-7184-11ed-8a2a-6432a87b22d4 copy.jpg',\n",
       " 'f143cc9d-7184-11ed-8a2a-6432a87b22d4.jpg',\n",
       " 'f49f546e-7184-11ed-b6d4-6432a87b22d4 copy 2.jpg',\n",
       " 'f49f546e-7184-11ed-b6d4-6432a87b22d4 copy.jpg',\n",
       " 'f49f546e-7184-11ed-b6d4-6432a87b22d4.jpg',\n",
       " 'f57546df-7184-11ed-85e2-6432a87b22d4 copy 2.jpg',\n",
       " 'f57546df-7184-11ed-85e2-6432a87b22d4 copy.jpg',\n",
       " 'f57546df-7184-11ed-85e2-6432a87b22d4.jpg',\n",
       " 'f6fd068c-7184-11ed-a470-6432a87b22d4 copy 2.jpg',\n",
       " 'f6fd068c-7184-11ed-a470-6432a87b22d4 copy.jpg',\n",
       " 'f6fd068c-7184-11ed-a470-6432a87b22d4.jpg',\n",
       " 'f7520a31-7184-11ed-9de4-6432a87b22d4 copy 2.jpg',\n",
       " 'f7520a31-7184-11ed-9de4-6432a87b22d4 copy.jpg',\n",
       " 'f7520a31-7184-11ed-9de4-6432a87b22d4.jpg',\n",
       " 'fac68488-7184-11ed-a473-6432a87b22d4 copy 2.jpg',\n",
       " 'fac68488-7184-11ed-a473-6432a87b22d4 copy.jpg',\n",
       " 'fac68488-7184-11ed-a473-6432a87b22d4.jpg',\n",
       " 'fb9fb897-7184-11ed-80f7-6432a87b22d4 copy 2.jpg',\n",
       " 'fb9fb897-7184-11ed-80f7-6432a87b22d4 copy.jpg',\n",
       " 'fb9fb897-7184-11ed-80f7-6432a87b22d4.jpg']"
      ]
     },
     "execution_count": 293,
     "metadata": {},
     "output_type": "execute_result"
    }
   ],
   "source": [
    "os.listdir(os.path.join('application_data', 'C:/Users/rayan/Documents/machinelearning/facial-recognition-app/FaceIDApp-main/application_data/verification_images'))"
   ]
  },
  {
   "cell_type": "code",
   "execution_count": 294,
   "metadata": {},
   "outputs": [
    {
     "data": {
      "text/plain": [
       "'application_data\\\\input_image\\\\input_image.jpg'"
      ]
     },
     "execution_count": 294,
     "metadata": {},
     "output_type": "execute_result"
    }
   ],
   "source": [
    "os.path.join('application_data', 'input_image', 'input_image.jpg')"
   ]
  },
  {
   "cell_type": "code",
   "execution_count": 295,
   "metadata": {},
   "outputs": [
    {
     "name": "stdout",
     "output_type": "stream",
     "text": [
      "C:/Users/rayan/Documents/machinelearning/facial-recognition-app/FaceIDApp-main/application_data/verification_images\\4b783c73-7188-11ed-a91a-6432a87b22d4.jpg\n",
      "C:/Users/rayan/Documents/machinelearning/facial-recognition-app/FaceIDApp-main/application_data/verification_images\\4ba2b8de-7188-11ed-8ef4-6432a87b22d4.jpg\n",
      "C:/Users/rayan/Documents/machinelearning/facial-recognition-app/FaceIDApp-main/application_data/verification_images\\4c4920a6-7188-11ed-ae57-6432a87b22d4.jpg\n",
      "C:/Users/rayan/Documents/machinelearning/facial-recognition-app/FaceIDApp-main/application_data/verification_images\\4c6d4a45-7188-11ed-8b9b-6432a87b22d4.jpg\n",
      "C:/Users/rayan/Documents/machinelearning/facial-recognition-app/FaceIDApp-main/application_data/verification_images\\4c90a94f-7188-11ed-abd7-6432a87b22d4.jpg\n",
      "C:/Users/rayan/Documents/machinelearning/facial-recognition-app/FaceIDApp-main/application_data/verification_images\\4cd828d9-7188-11ed-ad95-6432a87b22d4.jpg\n",
      "C:/Users/rayan/Documents/machinelearning/facial-recognition-app/FaceIDApp-main/application_data/verification_images\\4d4a7a26-7188-11ed-885b-6432a87b22d4.jpg\n",
      "C:/Users/rayan/Documents/machinelearning/facial-recognition-app/FaceIDApp-main/application_data/verification_images\\4da6f5cb-7188-11ed-9cae-6432a87b22d4.jpg\n",
      "C:/Users/rayan/Documents/machinelearning/facial-recognition-app/FaceIDApp-main/application_data/verification_images\\4df2ea50-7188-11ed-baba-6432a87b22d4.jpg\n",
      "C:/Users/rayan/Documents/machinelearning/facial-recognition-app/FaceIDApp-main/application_data/verification_images\\4e169155-7188-11ed-85bf-6432a87b22d4.jpg\n",
      "C:/Users/rayan/Documents/machinelearning/facial-recognition-app/FaceIDApp-main/application_data/verification_images\\4e3a3dc4-7188-11ed-aefa-6432a87b22d4.jpg\n",
      "C:/Users/rayan/Documents/machinelearning/facial-recognition-app/FaceIDApp-main/application_data/verification_images\\4e88ce4a-7188-11ed-9876-6432a87b22d4.jpg\n",
      "C:/Users/rayan/Documents/machinelearning/facial-recognition-app/FaceIDApp-main/application_data/verification_images\\4ef18675-7188-11ed-b9bf-6432a87b22d4.jpg\n",
      "C:/Users/rayan/Documents/machinelearning/facial-recognition-app/FaceIDApp-main/application_data/verification_images\\4f7b7bf9-7188-11ed-8b6e-6432a87b22d4.jpg\n",
      "C:/Users/rayan/Documents/machinelearning/facial-recognition-app/FaceIDApp-main/application_data/verification_images\\4fdf9c1b-7188-11ed-9ddc-6432a87b22d4.jpg\n",
      "C:/Users/rayan/Documents/machinelearning/facial-recognition-app/FaceIDApp-main/application_data/verification_images\\502e6bcb-7188-11ed-b691-6432a87b22d4.jpg\n",
      "C:/Users/rayan/Documents/machinelearning/facial-recognition-app/FaceIDApp-main/application_data/verification_images\\50d78d82-7188-11ed-bb39-6432a87b22d4.jpg\n",
      "C:/Users/rayan/Documents/machinelearning/facial-recognition-app/FaceIDApp-main/application_data/verification_images\\5102732d-7188-11ed-b31c-6432a87b22d4.jpg\n",
      "C:/Users/rayan/Documents/machinelearning/facial-recognition-app/FaceIDApp-main/application_data/verification_images\\512d0a72-7188-11ed-969f-6432a87b22d4.jpg\n",
      "C:/Users/rayan/Documents/machinelearning/facial-recognition-app/FaceIDApp-main/application_data/verification_images\\519823bb-7188-11ed-b5c1-6432a87b22d4.jpg\n",
      "C:/Users/rayan/Documents/machinelearning/facial-recognition-app/FaceIDApp-main/application_data/verification_images\\557f8528-7188-11ed-9307-6432a87b22d4.jpg\n",
      "C:/Users/rayan/Documents/machinelearning/facial-recognition-app/FaceIDApp-main/application_data/verification_images\\55a34473-7188-11ed-bcfb-6432a87b22d4.jpg\n",
      "C:/Users/rayan/Documents/machinelearning/facial-recognition-app/FaceIDApp-main/application_data/verification_images\\572cabd3-7188-11ed-8d76-6432a87b22d4.jpg\n",
      "C:/Users/rayan/Documents/machinelearning/facial-recognition-app/FaceIDApp-main/application_data/verification_images\\578ed7ac-7188-11ed-ae6d-6432a87b22d4.jpg\n",
      "C:/Users/rayan/Documents/machinelearning/facial-recognition-app/FaceIDApp-main/application_data/verification_images\\57b28d5e-7188-11ed-a21f-6432a87b22d4.jpg\n",
      "C:/Users/rayan/Documents/machinelearning/facial-recognition-app/FaceIDApp-main/application_data/verification_images\\57fca492-7188-11ed-8ef7-6432a87b22d4.jpg\n",
      "C:/Users/rayan/Documents/machinelearning/facial-recognition-app/FaceIDApp-main/application_data/verification_images\\586ebaaa-7188-11ed-8826-6432a87b22d4.jpg\n",
      "C:/Users/rayan/Documents/machinelearning/facial-recognition-app/FaceIDApp-main/application_data/verification_images\\5892ad7c-7188-11ed-84a0-6432a87b22d4.jpg\n",
      "C:/Users/rayan/Documents/machinelearning/facial-recognition-app/FaceIDApp-main/application_data/verification_images\\59f9c20a-7188-11ed-8516-6432a87b22d4.jpg\n",
      "C:/Users/rayan/Documents/machinelearning/facial-recognition-app/FaceIDApp-main/application_data/verification_images\\5a26cc64-7188-11ed-859d-6432a87b22d4.jpg\n",
      "C:/Users/rayan/Documents/machinelearning/facial-recognition-app/FaceIDApp-main/application_data/verification_images\\5a6e0a3b-7188-11ed-9414-6432a87b22d4.jpg\n",
      "C:/Users/rayan/Documents/machinelearning/facial-recognition-app/FaceIDApp-main/application_data/verification_images\\5aae76b5-7188-11ed-a1de-6432a87b22d4.jpg\n",
      "C:/Users/rayan/Documents/machinelearning/facial-recognition-app/FaceIDApp-main/application_data/verification_images\\5ad22519-7188-11ed-8337-6432a87b22d4.jpg\n",
      "C:/Users/rayan/Documents/machinelearning/facial-recognition-app/FaceIDApp-main/application_data/verification_images\\621e91d5-7185-11ed-a338-6432a87b22d4 copy.jpg\n",
      "C:/Users/rayan/Documents/machinelearning/facial-recognition-app/FaceIDApp-main/application_data/verification_images\\621e91d5-7185-11ed-a338-6432a87b22d4.jpg\n",
      "C:/Users/rayan/Documents/machinelearning/facial-recognition-app/FaceIDApp-main/application_data/verification_images\\62516925-7185-11ed-bd5d-6432a87b22d4 copy.jpg\n",
      "C:/Users/rayan/Documents/machinelearning/facial-recognition-app/FaceIDApp-main/application_data/verification_images\\62516925-7185-11ed-bd5d-6432a87b22d4.jpg\n",
      "C:/Users/rayan/Documents/machinelearning/facial-recognition-app/FaceIDApp-main/application_data/verification_images\\62b08d55-7185-11ed-ba49-6432a87b22d4 copy.jpg\n",
      "C:/Users/rayan/Documents/machinelearning/facial-recognition-app/FaceIDApp-main/application_data/verification_images\\62b08d55-7185-11ed-ba49-6432a87b22d4.jpg\n",
      "C:/Users/rayan/Documents/machinelearning/facial-recognition-app/FaceIDApp-main/application_data/verification_images\\647b9e81-7185-11ed-b00d-6432a87b22d4 copy.jpg\n",
      "C:/Users/rayan/Documents/machinelearning/facial-recognition-app/FaceIDApp-main/application_data/verification_images\\647b9e81-7185-11ed-b00d-6432a87b22d4.jpg\n",
      "C:/Users/rayan/Documents/machinelearning/facial-recognition-app/FaceIDApp-main/application_data/verification_images\\65a620ca-7185-11ed-aa1c-6432a87b22d4 copy.jpg\n",
      "C:/Users/rayan/Documents/machinelearning/facial-recognition-app/FaceIDApp-main/application_data/verification_images\\65a620ca-7185-11ed-aa1c-6432a87b22d4.jpg\n",
      "C:/Users/rayan/Documents/machinelearning/facial-recognition-app/FaceIDApp-main/application_data/verification_images\\66cf241d-7185-11ed-8f69-6432a87b22d4 copy.jpg\n",
      "C:/Users/rayan/Documents/machinelearning/facial-recognition-app/FaceIDApp-main/application_data/verification_images\\66cf241d-7185-11ed-8f69-6432a87b22d4.jpg\n",
      "C:/Users/rayan/Documents/machinelearning/facial-recognition-app/FaceIDApp-main/application_data/verification_images\\6ed94462-7185-11ed-84a6-6432a87b22d4 copy.jpg\n",
      "C:/Users/rayan/Documents/machinelearning/facial-recognition-app/FaceIDApp-main/application_data/verification_images\\6ed94462-7185-11ed-84a6-6432a87b22d4.jpg\n",
      "C:/Users/rayan/Documents/machinelearning/facial-recognition-app/FaceIDApp-main/application_data/verification_images\\6f57d564-7185-11ed-8567-6432a87b22d4 copy.jpg\n",
      "C:/Users/rayan/Documents/machinelearning/facial-recognition-app/FaceIDApp-main/application_data/verification_images\\6f57d564-7185-11ed-8567-6432a87b22d4.jpg\n",
      "C:/Users/rayan/Documents/machinelearning/facial-recognition-app/FaceIDApp-main/application_data/verification_images\\ebfeffbc-7184-11ed-a1f4-6432a87b22d4 copy 2.jpg\n",
      "C:/Users/rayan/Documents/machinelearning/facial-recognition-app/FaceIDApp-main/application_data/verification_images\\ebfeffbc-7184-11ed-a1f4-6432a87b22d4 copy.jpg\n",
      "C:/Users/rayan/Documents/machinelearning/facial-recognition-app/FaceIDApp-main/application_data/verification_images\\ebfeffbc-7184-11ed-a1f4-6432a87b22d4.jpg\n",
      "C:/Users/rayan/Documents/machinelearning/facial-recognition-app/FaceIDApp-main/application_data/verification_images\\ec5455cc-7184-11ed-b666-6432a87b22d4 copy 2.jpg\n",
      "C:/Users/rayan/Documents/machinelearning/facial-recognition-app/FaceIDApp-main/application_data/verification_images\\ec5455cc-7184-11ed-b666-6432a87b22d4 copy.jpg\n",
      "C:/Users/rayan/Documents/machinelearning/facial-recognition-app/FaceIDApp-main/application_data/verification_images\\ec5455cc-7184-11ed-b666-6432a87b22d4.jpg\n",
      "C:/Users/rayan/Documents/machinelearning/facial-recognition-app/FaceIDApp-main/application_data/verification_images\\ef9e6846-7184-11ed-a30d-6432a87b22d4 copy 2.jpg\n",
      "C:/Users/rayan/Documents/machinelearning/facial-recognition-app/FaceIDApp-main/application_data/verification_images\\ef9e6846-7184-11ed-a30d-6432a87b22d4 copy.jpg\n",
      "C:/Users/rayan/Documents/machinelearning/facial-recognition-app/FaceIDApp-main/application_data/verification_images\\ef9e6846-7184-11ed-a30d-6432a87b22d4.jpg\n",
      "C:/Users/rayan/Documents/machinelearning/facial-recognition-app/FaceIDApp-main/application_data/verification_images\\f143cc9d-7184-11ed-8a2a-6432a87b22d4 copy 2.jpg\n",
      "C:/Users/rayan/Documents/machinelearning/facial-recognition-app/FaceIDApp-main/application_data/verification_images\\f143cc9d-7184-11ed-8a2a-6432a87b22d4 copy.jpg\n",
      "C:/Users/rayan/Documents/machinelearning/facial-recognition-app/FaceIDApp-main/application_data/verification_images\\f143cc9d-7184-11ed-8a2a-6432a87b22d4.jpg\n",
      "C:/Users/rayan/Documents/machinelearning/facial-recognition-app/FaceIDApp-main/application_data/verification_images\\f49f546e-7184-11ed-b6d4-6432a87b22d4 copy 2.jpg\n",
      "C:/Users/rayan/Documents/machinelearning/facial-recognition-app/FaceIDApp-main/application_data/verification_images\\f49f546e-7184-11ed-b6d4-6432a87b22d4 copy.jpg\n",
      "C:/Users/rayan/Documents/machinelearning/facial-recognition-app/FaceIDApp-main/application_data/verification_images\\f49f546e-7184-11ed-b6d4-6432a87b22d4.jpg\n",
      "C:/Users/rayan/Documents/machinelearning/facial-recognition-app/FaceIDApp-main/application_data/verification_images\\f57546df-7184-11ed-85e2-6432a87b22d4 copy 2.jpg\n",
      "C:/Users/rayan/Documents/machinelearning/facial-recognition-app/FaceIDApp-main/application_data/verification_images\\f57546df-7184-11ed-85e2-6432a87b22d4 copy.jpg\n",
      "C:/Users/rayan/Documents/machinelearning/facial-recognition-app/FaceIDApp-main/application_data/verification_images\\f57546df-7184-11ed-85e2-6432a87b22d4.jpg\n",
      "C:/Users/rayan/Documents/machinelearning/facial-recognition-app/FaceIDApp-main/application_data/verification_images\\f6fd068c-7184-11ed-a470-6432a87b22d4 copy 2.jpg\n",
      "C:/Users/rayan/Documents/machinelearning/facial-recognition-app/FaceIDApp-main/application_data/verification_images\\f6fd068c-7184-11ed-a470-6432a87b22d4 copy.jpg\n",
      "C:/Users/rayan/Documents/machinelearning/facial-recognition-app/FaceIDApp-main/application_data/verification_images\\f6fd068c-7184-11ed-a470-6432a87b22d4.jpg\n",
      "C:/Users/rayan/Documents/machinelearning/facial-recognition-app/FaceIDApp-main/application_data/verification_images\\f7520a31-7184-11ed-9de4-6432a87b22d4 copy 2.jpg\n",
      "C:/Users/rayan/Documents/machinelearning/facial-recognition-app/FaceIDApp-main/application_data/verification_images\\f7520a31-7184-11ed-9de4-6432a87b22d4 copy.jpg\n",
      "C:/Users/rayan/Documents/machinelearning/facial-recognition-app/FaceIDApp-main/application_data/verification_images\\f7520a31-7184-11ed-9de4-6432a87b22d4.jpg\n",
      "C:/Users/rayan/Documents/machinelearning/facial-recognition-app/FaceIDApp-main/application_data/verification_images\\fac68488-7184-11ed-a473-6432a87b22d4 copy 2.jpg\n",
      "C:/Users/rayan/Documents/machinelearning/facial-recognition-app/FaceIDApp-main/application_data/verification_images\\fac68488-7184-11ed-a473-6432a87b22d4 copy.jpg\n",
      "C:/Users/rayan/Documents/machinelearning/facial-recognition-app/FaceIDApp-main/application_data/verification_images\\fac68488-7184-11ed-a473-6432a87b22d4.jpg\n",
      "C:/Users/rayan/Documents/machinelearning/facial-recognition-app/FaceIDApp-main/application_data/verification_images\\fb9fb897-7184-11ed-80f7-6432a87b22d4 copy 2.jpg\n",
      "C:/Users/rayan/Documents/machinelearning/facial-recognition-app/FaceIDApp-main/application_data/verification_images\\fb9fb897-7184-11ed-80f7-6432a87b22d4 copy.jpg\n",
      "C:/Users/rayan/Documents/machinelearning/facial-recognition-app/FaceIDApp-main/application_data/verification_images\\fb9fb897-7184-11ed-80f7-6432a87b22d4.jpg\n"
     ]
    }
   ],
   "source": [
    "for image in os.listdir(os.path.join('application_data', 'C:/Users/rayan/Documents/machinelearning/facial-recognition-app/FaceIDApp-main/application_data/verification_images')):\n",
    "    validation_img = os.path.join('application_data', 'C:/Users/rayan/Documents/machinelearning/facial-recognition-app/FaceIDApp-main/application_data/verification_images', image)\n",
    "    print(validation_img)"
   ]
  },
  {
   "cell_type": "code",
   "execution_count": 296,
   "metadata": {},
   "outputs": [],
   "source": [
    "def verify(model, detection_threshold, verification_threshold):\n",
    "    # Build results array\n",
    "    results = []\n",
    "    for image in os.listdir(os.path.join('application_data', 'C:/Users/rayan/Documents/machinelearning/facial-recognition-app/FaceIDApp-main/application_data/verification_images')):\n",
    "        input_img = preprocess(os.path.join('application_data', 'input_image', 'input_image.jpg'))\n",
    "        validation_img = preprocess(os.path.join('application_data', 'C:/Users/rayan/Documents/machinelearning/facial-recognition-app/FaceIDApp-main/application_data/verification_images', image))\n",
    "        \n",
    "        # Make Predictions \n",
    "        result = model.predict(list(np.expand_dims([input_img, validation_img], axis=1)))\n",
    "        results.append(result)\n",
    "    \n",
    "    # Detection Threshold: Metric above which a prediciton is considered positive \n",
    "    detection = np.sum(np.array(results) > detection_threshold)\n",
    "    \n",
    "    # Verification Threshold: Proportion of positive predictions / total positive samples \n",
    "    verification = detection / len(os.listdir(os.path.join('application_data', 'verification_images'))) \n",
    "    verified = verification > verification_threshold\n",
    "    \n",
    "    return results, verified"
   ]
  },
  {
   "cell_type": "markdown",
   "metadata": {},
   "source": [
    "## 8.2 OpenCV Real Time Verification"
   ]
  },
  {
   "cell_type": "code",
   "execution_count": 297,
   "metadata": {},
   "outputs": [
    {
     "name": "stdout",
     "output_type": "stream",
     "text": [
      "1/1 [==============================] - 0s 186ms/step\n",
      "1/1 [==============================] - 0s 195ms/step\n",
      "1/1 [==============================] - 0s 221ms/step\n",
      "1/1 [==============================] - 0s 196ms/step\n",
      "1/1 [==============================] - 0s 193ms/step\n",
      "1/1 [==============================] - 0s 205ms/step\n",
      "1/1 [==============================] - 0s 226ms/step\n",
      "1/1 [==============================] - 0s 194ms/step\n",
      "1/1 [==============================] - 0s 181ms/step\n",
      "1/1 [==============================] - 0s 201ms/step\n",
      "1/1 [==============================] - 0s 222ms/step\n",
      "1/1 [==============================] - 0s 203ms/step\n",
      "1/1 [==============================] - 0s 193ms/step\n",
      "1/1 [==============================] - 0s 206ms/step\n",
      "1/1 [==============================] - 0s 203ms/step\n",
      "1/1 [==============================] - 0s 200ms/step\n",
      "1/1 [==============================] - 0s 215ms/step\n",
      "1/1 [==============================] - 0s 195ms/step\n",
      "1/1 [==============================] - 0s 207ms/step\n",
      "1/1 [==============================] - 0s 198ms/step\n",
      "1/1 [==============================] - 0s 194ms/step\n",
      "1/1 [==============================] - 0s 200ms/step\n",
      "1/1 [==============================] - 0s 204ms/step\n",
      "1/1 [==============================] - 0s 216ms/step\n",
      "1/1 [==============================] - 0s 201ms/step\n",
      "1/1 [==============================] - 0s 188ms/step\n",
      "1/1 [==============================] - 0s 234ms/step\n",
      "1/1 [==============================] - 0s 193ms/step\n",
      "1/1 [==============================] - 0s 210ms/step\n",
      "1/1 [==============================] - 0s 242ms/step\n",
      "1/1 [==============================] - 0s 245ms/step\n",
      "1/1 [==============================] - 0s 230ms/step\n",
      "1/1 [==============================] - 0s 257ms/step\n",
      "1/1 [==============================] - 0s 236ms/step\n",
      "1/1 [==============================] - 0s 288ms/step\n",
      "1/1 [==============================] - 0s 239ms/step\n",
      "1/1 [==============================] - 0s 234ms/step\n",
      "1/1 [==============================] - 0s 249ms/step\n",
      "1/1 [==============================] - 0s 260ms/step\n",
      "1/1 [==============================] - 0s 226ms/step\n",
      "1/1 [==============================] - 0s 239ms/step\n",
      "1/1 [==============================] - 0s 236ms/step\n",
      "1/1 [==============================] - 0s 229ms/step\n",
      "1/1 [==============================] - 0s 239ms/step\n",
      "1/1 [==============================] - 0s 227ms/step\n",
      "1/1 [==============================] - 0s 233ms/step\n",
      "1/1 [==============================] - 0s 232ms/step\n",
      "1/1 [==============================] - 0s 239ms/step\n",
      "1/1 [==============================] - 0s 225ms/step\n",
      "1/1 [==============================] - 0s 234ms/step\n",
      "1/1 [==============================] - 0s 230ms/step\n",
      "1/1 [==============================] - 0s 240ms/step\n",
      "1/1 [==============================] - 0s 241ms/step\n",
      "1/1 [==============================] - 0s 227ms/step\n",
      "1/1 [==============================] - 0s 223ms/step\n",
      "1/1 [==============================] - 0s 232ms/step\n",
      "1/1 [==============================] - 0s 218ms/step\n",
      "1/1 [==============================] - 0s 237ms/step\n",
      "1/1 [==============================] - 0s 246ms/step\n",
      "1/1 [==============================] - 0s 217ms/step\n",
      "1/1 [==============================] - 0s 229ms/step\n",
      "1/1 [==============================] - 0s 227ms/step\n",
      "1/1 [==============================] - 0s 224ms/step\n",
      "1/1 [==============================] - 0s 217ms/step\n",
      "1/1 [==============================] - 0s 237ms/step\n",
      "1/1 [==============================] - 0s 240ms/step\n",
      "1/1 [==============================] - 0s 227ms/step\n",
      "1/1 [==============================] - 0s 226ms/step\n",
      "1/1 [==============================] - 0s 229ms/step\n",
      "1/1 [==============================] - 0s 264ms/step\n",
      "1/1 [==============================] - 0s 226ms/step\n",
      "1/1 [==============================] - 0s 248ms/step\n",
      "1/1 [==============================] - 0s 256ms/step\n",
      "1/1 [==============================] - 0s 263ms/step\n",
      "1/1 [==============================] - 0s 231ms/step\n",
      "1/1 [==============================] - 0s 225ms/step\n",
      "1/1 [==============================] - 0s 237ms/step\n",
      "1/1 [==============================] - 0s 291ms/step\n",
      "1/1 [==============================] - 0s 264ms/step\n",
      "True\n"
     ]
    }
   ],
   "source": [
    "cap = cv2.VideoCapture(0)\n",
    "while cap.isOpened():\n",
    "    ret, frame = cap.read()\n",
    "    frame = frame[120:120+250,200:200+250, :]\n",
    "    \n",
    "    cv2.imshow('Verification', frame)\n",
    "    \n",
    "    # Verification trigger\n",
    "    if cv2.waitKey(10) & 0xFF == ord('v'):\n",
    "        # Save input image to application_data/input_image folder \n",
    "#         hsv = cv2.cvtColor(frame, cv2.COLOR_BGR2HSV)\n",
    "#         h, s, v = cv2.split(hsv)\n",
    "\n",
    "#         lim = 255 - 10\n",
    "#         v[v > lim] = 255\n",
    "#         v[v <= lim] -= 10\n",
    "        \n",
    "#         final_hsv = cv2.merge((h, s, v))\n",
    "#         img = cv2.cvtColor(final_hsv, cv2.COLOR_HSV2BGR)\n",
    "\n",
    "        cv2.imwrite(os.path.join('application_data', 'input_image', 'input_image.jpg'), frame)\n",
    "        # Run verification\n",
    "        results, verified = verify(siamese_model, 0.5, 0.5)\n",
    "        print(verified)\n",
    "    \n",
    "    if cv2.waitKey(10) & 0xFF == ord('q'):\n",
    "        break\n",
    "cap.release()\n",
    "cv2.destroyAllWindows()"
   ]
  },
  {
   "cell_type": "code",
   "execution_count": 298,
   "metadata": {},
   "outputs": [
    {
     "data": {
      "text/plain": [
       "55"
      ]
     },
     "execution_count": 298,
     "metadata": {},
     "output_type": "execute_result"
    }
   ],
   "source": [
    "np.sum(np.squeeze(results) > 0.9)"
   ]
  },
  {
   "cell_type": "code",
   "execution_count": 299,
   "metadata": {},
   "outputs": [
    {
     "data": {
      "text/plain": [
       "[array([[0.9984951]], dtype=float32),\n",
       " array([[0.99780875]], dtype=float32),\n",
       " array([[0.9999999]], dtype=float32),\n",
       " array([[0.9999994]], dtype=float32),\n",
       " array([[0.999998]], dtype=float32),\n",
       " array([[0.99999696]], dtype=float32),\n",
       " array([[0.953534]], dtype=float32),\n",
       " array([[0.99999934]], dtype=float32),\n",
       " array([[0.79587823]], dtype=float32),\n",
       " array([[0.92897207]], dtype=float32),\n",
       " array([[0.9785467]], dtype=float32),\n",
       " array([[0.99952096]], dtype=float32),\n",
       " array([[0.99505764]], dtype=float32),\n",
       " array([[0.99125475]], dtype=float32),\n",
       " array([[0.01498939]], dtype=float32),\n",
       " array([[0.9974914]], dtype=float32),\n",
       " array([[0.06391796]], dtype=float32),\n",
       " array([[0.04370213]], dtype=float32),\n",
       " array([[0.18258794]], dtype=float32),\n",
       " array([[0.99831825]], dtype=float32),\n",
       " array([[0.999966]], dtype=float32),\n",
       " array([[0.99999857]], dtype=float32),\n",
       " array([[0.71439457]], dtype=float32),\n",
       " array([[0.0018793]], dtype=float32),\n",
       " array([[0.9999363]], dtype=float32),\n",
       " array([[0.99999994]], dtype=float32),\n",
       " array([[0.9999997]], dtype=float32),\n",
       " array([[0.9999993]], dtype=float32),\n",
       " array([[0.9523312]], dtype=float32),\n",
       " array([[0.7576904]], dtype=float32),\n",
       " array([[0.9512998]], dtype=float32),\n",
       " array([[0.8674351]], dtype=float32),\n",
       " array([[0.9813697]], dtype=float32),\n",
       " array([[0.9999948]], dtype=float32),\n",
       " array([[0.9999948]], dtype=float32),\n",
       " array([[0.999999]], dtype=float32),\n",
       " array([[0.999999]], dtype=float32),\n",
       " array([[0.99999857]], dtype=float32),\n",
       " array([[0.99999857]], dtype=float32),\n",
       " array([[0.9999999]], dtype=float32),\n",
       " array([[0.9999999]], dtype=float32),\n",
       " array([[0.8022799]], dtype=float32),\n",
       " array([[0.8022799]], dtype=float32),\n",
       " array([[0.99196535]], dtype=float32),\n",
       " array([[0.99196535]], dtype=float32),\n",
       " array([[0.15332963]], dtype=float32),\n",
       " array([[0.15332963]], dtype=float32),\n",
       " array([[0.62894166]], dtype=float32),\n",
       " array([[0.62894166]], dtype=float32),\n",
       " array([[0.9999779]], dtype=float32),\n",
       " array([[0.9999779]], dtype=float32),\n",
       " array([[0.9999779]], dtype=float32),\n",
       " array([[0.9999188]], dtype=float32),\n",
       " array([[0.9999188]], dtype=float32),\n",
       " array([[0.9999188]], dtype=float32),\n",
       " array([[0.22179145]], dtype=float32),\n",
       " array([[0.22179145]], dtype=float32),\n",
       " array([[0.22179145]], dtype=float32),\n",
       " array([[0.00639877]], dtype=float32),\n",
       " array([[0.00639877]], dtype=float32),\n",
       " array([[0.00639877]], dtype=float32),\n",
       " array([[1.]], dtype=float32),\n",
       " array([[1.]], dtype=float32),\n",
       " array([[1.]], dtype=float32),\n",
       " array([[1.]], dtype=float32),\n",
       " array([[1.]], dtype=float32),\n",
       " array([[1.]], dtype=float32),\n",
       " array([[0.0144015]], dtype=float32),\n",
       " array([[0.0144015]], dtype=float32),\n",
       " array([[0.0144015]], dtype=float32),\n",
       " array([[0.99999696]], dtype=float32),\n",
       " array([[0.99999696]], dtype=float32),\n",
       " array([[0.99999696]], dtype=float32),\n",
       " array([[0.91937226]], dtype=float32),\n",
       " array([[0.91937226]], dtype=float32),\n",
       " array([[0.91937226]], dtype=float32),\n",
       " array([[0.99989635]], dtype=float32),\n",
       " array([[0.99989635]], dtype=float32),\n",
       " array([[0.99989635]], dtype=float32)]"
      ]
     },
     "execution_count": 299,
     "metadata": {},
     "output_type": "execute_result"
    }
   ],
   "source": [
    "results"
   ]
  },
  {
   "cell_type": "code",
   "execution_count": null,
   "metadata": {},
   "outputs": [],
   "source": []
  }
 ],
 "metadata": {
  "kernelspec": {
   "display_name": "Python 3 (ipykernel)",
   "language": "python",
   "name": "python3"
  },
  "language_info": {
   "codemirror_mode": {
    "name": "ipython",
    "version": 3
   },
   "file_extension": ".py",
   "mimetype": "text/x-python",
   "name": "python",
   "nbconvert_exporter": "python",
   "pygments_lexer": "ipython3",
   "version": "3.10.7"
  },
  "vscode": {
   "interpreter": {
    "hash": "334657c8e52fd71d95571d4aa266536ecfae8b05cb25ba6557c72dcb65d7c56a"
   }
  }
 },
 "nbformat": 4,
 "nbformat_minor": 4
}
